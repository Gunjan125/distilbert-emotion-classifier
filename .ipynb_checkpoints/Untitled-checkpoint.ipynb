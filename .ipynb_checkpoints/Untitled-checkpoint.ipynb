{
 "cells": [
  {
   "cell_type": "code",
   "execution_count": 19,
   "id": "8aaa2062",
   "metadata": {},
   "outputs": [
    {
     "name": "stdout",
     "output_type": "stream",
     "text": [
      "Requirement already satisfied: transformers in c:\\users\\yasha\\anaconda3\\lib\\site-packages (4.32.1)\n",
      "Requirement already satisfied: filelock in c:\\users\\yasha\\anaconda3\\lib\\site-packages (from transformers) (3.9.0)\n",
      "Requirement already satisfied: huggingface-hub<1.0,>=0.15.1 in c:\\users\\yasha\\anaconda3\\lib\\site-packages (from transformers) (0.15.1)\n",
      "Requirement already satisfied: numpy>=1.17 in c:\\users\\yasha\\anaconda3\\lib\\site-packages (from transformers) (2.3.4)\n",
      "Requirement already satisfied: packaging>=20.0 in c:\\users\\yasha\\anaconda3\\lib\\site-packages (from transformers) (23.1)\n",
      "Requirement already satisfied: pyyaml>=5.1 in c:\\users\\yasha\\anaconda3\\lib\\site-packages (from transformers) (6.0)\n",
      "Requirement already satisfied: regex!=2019.12.17 in c:\\users\\yasha\\anaconda3\\lib\\site-packages (from transformers) (2022.7.9)\n",
      "Requirement already satisfied: requests in c:\\users\\yasha\\anaconda3\\lib\\site-packages (from transformers) (2.31.0)\n",
      "Requirement already satisfied: tokenizers!=0.11.3,<0.14,>=0.11.1 in c:\\users\\yasha\\anaconda3\\lib\\site-packages (from transformers) (0.13.2)\n",
      "Requirement already satisfied: safetensors>=0.3.1 in c:\\users\\yasha\\anaconda3\\lib\\site-packages (from transformers) (0.3.2)\n",
      "Requirement already satisfied: tqdm>=4.27 in c:\\users\\yasha\\anaconda3\\lib\\site-packages (from transformers) (4.65.0)\n",
      "Requirement already satisfied: fsspec in c:\\users\\yasha\\anaconda3\\lib\\site-packages (from huggingface-hub<1.0,>=0.15.1->transformers) (2023.4.0)\n",
      "Requirement already satisfied: typing-extensions>=3.7.4.3 in c:\\users\\yasha\\anaconda3\\lib\\site-packages (from huggingface-hub<1.0,>=0.15.1->transformers) (4.14.0)\n",
      "Requirement already satisfied: colorama in c:\\users\\yasha\\anaconda3\\lib\\site-packages (from tqdm>=4.27->transformers) (0.4.6)\n",
      "Requirement already satisfied: charset-normalizer<4,>=2 in c:\\users\\yasha\\anaconda3\\lib\\site-packages (from requests->transformers) (2.0.4)\n",
      "Requirement already satisfied: idna<4,>=2.5 in c:\\users\\yasha\\anaconda3\\lib\\site-packages (from requests->transformers) (3.4)\n",
      "Requirement already satisfied: urllib3<3,>=1.21.1 in c:\\users\\yasha\\anaconda3\\lib\\site-packages (from requests->transformers) (1.26.16)\n",
      "Requirement already satisfied: certifi>=2017.4.17 in c:\\users\\yasha\\anaconda3\\lib\\site-packages (from requests->transformers) (2023.7.22)\n"
     ]
    }
   ],
   "source": [
    "!pip install transformers"
   ]
  },
  {
   "cell_type": "code",
   "execution_count": 20,
   "id": "d4b9fe10",
   "metadata": {},
   "outputs": [
    {
     "name": "stdout",
     "output_type": "stream",
     "text": [
      "Requirement already satisfied: datasets in c:\\users\\yasha\\anaconda3\\lib\\site-packages (2.12.0)\n",
      "Requirement already satisfied: numpy>=1.17 in c:\\users\\yasha\\anaconda3\\lib\\site-packages (from datasets) (2.3.4)\n",
      "Requirement already satisfied: pyarrow>=8.0.0 in c:\\users\\yasha\\anaconda3\\lib\\site-packages (from datasets) (11.0.0)\n",
      "Requirement already satisfied: dill<0.3.7,>=0.3.0 in c:\\users\\yasha\\anaconda3\\lib\\site-packages (from datasets) (0.3.6)\n",
      "Requirement already satisfied: pandas in c:\\users\\yasha\\anaconda3\\lib\\site-packages (from datasets) (2.3.3)\n",
      "Requirement already satisfied: requests>=2.19.0 in c:\\users\\yasha\\anaconda3\\lib\\site-packages (from datasets) (2.31.0)\n",
      "Requirement already satisfied: tqdm>=4.62.1 in c:\\users\\yasha\\anaconda3\\lib\\site-packages (from datasets) (4.65.0)\n",
      "Requirement already satisfied: xxhash in c:\\users\\yasha\\anaconda3\\lib\\site-packages (from datasets) (2.0.2)\n",
      "Requirement already satisfied: multiprocess in c:\\users\\yasha\\anaconda3\\lib\\site-packages (from datasets) (0.70.14)\n",
      "Requirement already satisfied: fsspec[http]>=2021.11.1 in c:\\users\\yasha\\anaconda3\\lib\\site-packages (from datasets) (2023.4.0)\n",
      "Requirement already satisfied: aiohttp in c:\\users\\yasha\\anaconda3\\lib\\site-packages (from datasets) (3.8.5)\n",
      "Requirement already satisfied: huggingface-hub<1.0.0,>=0.11.0 in c:\\users\\yasha\\anaconda3\\lib\\site-packages (from datasets) (0.15.1)\n",
      "Requirement already satisfied: packaging in c:\\users\\yasha\\anaconda3\\lib\\site-packages (from datasets) (23.1)\n",
      "Requirement already satisfied: responses<0.19 in c:\\users\\yasha\\anaconda3\\lib\\site-packages (from datasets) (0.13.3)\n",
      "Requirement already satisfied: pyyaml>=5.1 in c:\\users\\yasha\\anaconda3\\lib\\site-packages (from datasets) (6.0)\n",
      "Requirement already satisfied: attrs>=17.3.0 in c:\\users\\yasha\\anaconda3\\lib\\site-packages (from aiohttp->datasets) (22.1.0)\n",
      "Requirement already satisfied: charset-normalizer<4.0,>=2.0 in c:\\users\\yasha\\anaconda3\\lib\\site-packages (from aiohttp->datasets) (2.0.4)\n",
      "Requirement already satisfied: multidict<7.0,>=4.5 in c:\\users\\yasha\\anaconda3\\lib\\site-packages (from aiohttp->datasets) (6.0.2)\n",
      "Requirement already satisfied: async-timeout<5.0,>=4.0.0a3 in c:\\users\\yasha\\anaconda3\\lib\\site-packages (from aiohttp->datasets) (4.0.2)\n",
      "Requirement already satisfied: yarl<2.0,>=1.0 in c:\\users\\yasha\\anaconda3\\lib\\site-packages (from aiohttp->datasets) (1.8.1)\n",
      "Requirement already satisfied: frozenlist>=1.1.1 in c:\\users\\yasha\\anaconda3\\lib\\site-packages (from aiohttp->datasets) (1.3.3)\n",
      "Requirement already satisfied: aiosignal>=1.1.2 in c:\\users\\yasha\\anaconda3\\lib\\site-packages (from aiohttp->datasets) (1.2.0)\n",
      "Requirement already satisfied: filelock in c:\\users\\yasha\\anaconda3\\lib\\site-packages (from huggingface-hub<1.0.0,>=0.11.0->datasets) (3.9.0)\n",
      "Requirement already satisfied: typing-extensions>=3.7.4.3 in c:\\users\\yasha\\anaconda3\\lib\\site-packages (from huggingface-hub<1.0.0,>=0.11.0->datasets) (4.14.0)\n",
      "Requirement already satisfied: idna<4,>=2.5 in c:\\users\\yasha\\anaconda3\\lib\\site-packages (from requests>=2.19.0->datasets) (3.4)\n",
      "Requirement already satisfied: urllib3<3,>=1.21.1 in c:\\users\\yasha\\anaconda3\\lib\\site-packages (from requests>=2.19.0->datasets) (1.26.16)\n",
      "Requirement already satisfied: certifi>=2017.4.17 in c:\\users\\yasha\\anaconda3\\lib\\site-packages (from requests>=2.19.0->datasets) (2023.7.22)\n",
      "Requirement already satisfied: six in c:\\users\\yasha\\anaconda3\\lib\\site-packages (from responses<0.19->datasets) (1.16.0)\n",
      "Requirement already satisfied: colorama in c:\\users\\yasha\\anaconda3\\lib\\site-packages (from tqdm>=4.62.1->datasets) (0.4.6)\n",
      "Requirement already satisfied: python-dateutil>=2.8.2 in c:\\users\\yasha\\anaconda3\\lib\\site-packages (from pandas->datasets) (2.8.2)\n",
      "Requirement already satisfied: pytz>=2020.1 in c:\\users\\yasha\\anaconda3\\lib\\site-packages (from pandas->datasets) (2023.3.post1)\n",
      "Requirement already satisfied: tzdata>=2022.7 in c:\\users\\yasha\\anaconda3\\lib\\site-packages (from pandas->datasets) (2023.3)\n"
     ]
    }
   ],
   "source": [
    "!pip install datasets"
   ]
  },
  {
   "cell_type": "code",
   "execution_count": 21,
   "id": "5686df19",
   "metadata": {},
   "outputs": [
    {
     "name": "stdout",
     "output_type": "stream",
     "text": [
      "Requirement already satisfied: bertviz in c:\\users\\yasha\\anaconda3\\lib\\site-packages (1.4.1)\n",
      "Requirement already satisfied: transformers>=2.0 in c:\\users\\yasha\\anaconda3\\lib\\site-packages (from bertviz) (4.32.1)\n",
      "Requirement already satisfied: torch>=1.0 in c:\\users\\yasha\\anaconda3\\lib\\site-packages (from bertviz) (2.9.0+cpu)\n",
      "Requirement already satisfied: tqdm in c:\\users\\yasha\\anaconda3\\lib\\site-packages (from bertviz) (4.65.0)\n",
      "Requirement already satisfied: boto3 in c:\\users\\yasha\\anaconda3\\lib\\site-packages (from bertviz) (1.40.59)\n",
      "Requirement already satisfied: requests in c:\\users\\yasha\\anaconda3\\lib\\site-packages (from bertviz) (2.31.0)\n",
      "Requirement already satisfied: regex in c:\\users\\yasha\\anaconda3\\lib\\site-packages (from bertviz) (2022.7.9)\n",
      "Requirement already satisfied: sentencepiece in c:\\users\\yasha\\anaconda3\\lib\\site-packages (from bertviz) (0.2.0)\n",
      "Requirement already satisfied: IPython>=7.14 in c:\\users\\yasha\\anaconda3\\lib\\site-packages (from bertviz) (8.15.0)\n",
      "Requirement already satisfied: backcall in c:\\users\\yasha\\anaconda3\\lib\\site-packages (from IPython>=7.14->bertviz) (0.2.0)\n",
      "Requirement already satisfied: decorator in c:\\users\\yasha\\anaconda3\\lib\\site-packages (from IPython>=7.14->bertviz) (5.1.1)\n",
      "Requirement already satisfied: jedi>=0.16 in c:\\users\\yasha\\anaconda3\\lib\\site-packages (from IPython>=7.14->bertviz) (0.18.1)\n",
      "Requirement already satisfied: matplotlib-inline in c:\\users\\yasha\\anaconda3\\lib\\site-packages (from IPython>=7.14->bertviz) (0.1.6)\n",
      "Requirement already satisfied: pickleshare in c:\\users\\yasha\\anaconda3\\lib\\site-packages (from IPython>=7.14->bertviz) (0.7.5)\n",
      "Requirement already satisfied: prompt-toolkit!=3.0.37,<3.1.0,>=3.0.30 in c:\\users\\yasha\\anaconda3\\lib\\site-packages (from IPython>=7.14->bertviz) (3.0.36)\n",
      "Requirement already satisfied: pygments>=2.4.0 in c:\\users\\yasha\\anaconda3\\lib\\site-packages (from IPython>=7.14->bertviz) (2.15.1)\n",
      "Requirement already satisfied: stack-data in c:\\users\\yasha\\anaconda3\\lib\\site-packages (from IPython>=7.14->bertviz) (0.2.0)\n",
      "Requirement already satisfied: traitlets>=5 in c:\\users\\yasha\\anaconda3\\lib\\site-packages (from IPython>=7.14->bertviz) (5.7.1)\n",
      "Requirement already satisfied: colorama in c:\\users\\yasha\\anaconda3\\lib\\site-packages (from IPython>=7.14->bertviz) (0.4.6)\n",
      "Requirement already satisfied: filelock in c:\\users\\yasha\\anaconda3\\lib\\site-packages (from torch>=1.0->bertviz) (3.9.0)\n",
      "Requirement already satisfied: typing-extensions>=4.10.0 in c:\\users\\yasha\\anaconda3\\lib\\site-packages (from torch>=1.0->bertviz) (4.14.0)\n",
      "Requirement already satisfied: sympy>=1.13.3 in c:\\users\\yasha\\anaconda3\\lib\\site-packages (from torch>=1.0->bertviz) (1.14.0)\n",
      "Requirement already satisfied: networkx>=2.5.1 in c:\\users\\yasha\\anaconda3\\lib\\site-packages (from torch>=1.0->bertviz) (3.1)\n",
      "Requirement already satisfied: jinja2 in c:\\users\\yasha\\anaconda3\\lib\\site-packages (from torch>=1.0->bertviz) (3.1.2)\n",
      "Requirement already satisfied: fsspec>=0.8.5 in c:\\users\\yasha\\anaconda3\\lib\\site-packages (from torch>=1.0->bertviz) (2023.4.0)\n",
      "Requirement already satisfied: huggingface-hub<1.0,>=0.15.1 in c:\\users\\yasha\\anaconda3\\lib\\site-packages (from transformers>=2.0->bertviz) (0.15.1)\n",
      "Requirement already satisfied: numpy>=1.17 in c:\\users\\yasha\\anaconda3\\lib\\site-packages (from transformers>=2.0->bertviz) (2.3.4)\n",
      "Requirement already satisfied: packaging>=20.0 in c:\\users\\yasha\\anaconda3\\lib\\site-packages (from transformers>=2.0->bertviz) (23.1)\n",
      "Requirement already satisfied: pyyaml>=5.1 in c:\\users\\yasha\\anaconda3\\lib\\site-packages (from transformers>=2.0->bertviz) (6.0)\n",
      "Requirement already satisfied: tokenizers!=0.11.3,<0.14,>=0.11.1 in c:\\users\\yasha\\anaconda3\\lib\\site-packages (from transformers>=2.0->bertviz) (0.13.2)\n",
      "Requirement already satisfied: safetensors>=0.3.1 in c:\\users\\yasha\\anaconda3\\lib\\site-packages (from transformers>=2.0->bertviz) (0.3.2)\n",
      "Requirement already satisfied: botocore<1.41.0,>=1.40.59 in c:\\users\\yasha\\anaconda3\\lib\\site-packages (from boto3->bertviz) (1.40.59)\n",
      "Requirement already satisfied: jmespath<2.0.0,>=0.7.1 in c:\\users\\yasha\\anaconda3\\lib\\site-packages (from boto3->bertviz) (0.10.0)\n",
      "Requirement already satisfied: s3transfer<0.15.0,>=0.14.0 in c:\\users\\yasha\\anaconda3\\lib\\site-packages (from boto3->bertviz) (0.14.0)\n",
      "Requirement already satisfied: charset-normalizer<4,>=2 in c:\\users\\yasha\\anaconda3\\lib\\site-packages (from requests->bertviz) (2.0.4)\n",
      "Requirement already satisfied: idna<4,>=2.5 in c:\\users\\yasha\\anaconda3\\lib\\site-packages (from requests->bertviz) (3.4)\n",
      "Requirement already satisfied: urllib3<3,>=1.21.1 in c:\\users\\yasha\\anaconda3\\lib\\site-packages (from requests->bertviz) (1.26.16)\n",
      "Requirement already satisfied: certifi>=2017.4.17 in c:\\users\\yasha\\anaconda3\\lib\\site-packages (from requests->bertviz) (2023.7.22)\n",
      "Requirement already satisfied: python-dateutil<3.0.0,>=2.1 in c:\\users\\yasha\\anaconda3\\lib\\site-packages (from botocore<1.41.0,>=1.40.59->boto3->bertviz) (2.8.2)\n",
      "Requirement already satisfied: parso<0.9.0,>=0.8.0 in c:\\users\\yasha\\anaconda3\\lib\\site-packages (from jedi>=0.16->IPython>=7.14->bertviz) (0.8.3)\n",
      "Requirement already satisfied: wcwidth in c:\\users\\yasha\\anaconda3\\lib\\site-packages (from prompt-toolkit!=3.0.37,<3.1.0,>=3.0.30->IPython>=7.14->bertviz) (0.2.5)\n",
      "Requirement already satisfied: mpmath<1.4,>=1.1.0 in c:\\users\\yasha\\anaconda3\\lib\\site-packages (from sympy>=1.13.3->torch>=1.0->bertviz) (1.3.0)\n",
      "Requirement already satisfied: MarkupSafe>=2.0 in c:\\users\\yasha\\anaconda3\\lib\\site-packages (from jinja2->torch>=1.0->bertviz) (2.1.1)\n",
      "Requirement already satisfied: executing in c:\\users\\yasha\\anaconda3\\lib\\site-packages (from stack-data->IPython>=7.14->bertviz) (0.8.3)\n",
      "Requirement already satisfied: asttokens in c:\\users\\yasha\\anaconda3\\lib\\site-packages (from stack-data->IPython>=7.14->bertviz) (2.0.5)\n",
      "Requirement already satisfied: pure-eval in c:\\users\\yasha\\anaconda3\\lib\\site-packages (from stack-data->IPython>=7.14->bertviz) (0.2.2)\n",
      "Requirement already satisfied: six>=1.5 in c:\\users\\yasha\\anaconda3\\lib\\site-packages (from python-dateutil<3.0.0,>=2.1->botocore<1.41.0,>=1.40.59->boto3->bertviz) (1.16.0)\n"
     ]
    }
   ],
   "source": [
    "!pip install bertviz"
   ]
  },
  {
   "cell_type": "code",
   "execution_count": 22,
   "id": "4b887853",
   "metadata": {},
   "outputs": [
    {
     "name": "stdout",
     "output_type": "stream",
     "text": [
      "Collecting umap-learn\n",
      "  Obtaining dependency information for umap-learn from https://files.pythonhosted.org/packages/6b/b1/c24deeda9baf1fd491aaad941ed89e0fed6c583a117fd7b79e0a33a1e6c0/umap_learn-0.5.9.post2-py3-none-any.whl.metadata\n",
      "  Using cached umap_learn-0.5.9.post2-py3-none-any.whl.metadata (25 kB)\n",
      "Requirement already satisfied: numpy>=1.23 in c:\\users\\yasha\\anaconda3\\lib\\site-packages (from umap-learn) (2.3.4)\n",
      "Requirement already satisfied: scipy>=1.3.1 in c:\\users\\yasha\\anaconda3\\lib\\site-packages (from umap-learn) (1.16.0)\n",
      "Collecting scikit-learn>=1.6 (from umap-learn)\n",
      "  Obtaining dependency information for scikit-learn>=1.6 from https://files.pythonhosted.org/packages/9f/71/34ddbd21f1da67c7a768146968b4d0220ee6831e4bcbad3e03dd3eae88b6/scikit_learn-1.7.2-cp311-cp311-win_amd64.whl.metadata\n",
      "  Using cached scikit_learn-1.7.2-cp311-cp311-win_amd64.whl.metadata (11 kB)\n",
      "Requirement already satisfied: numba>=0.51.2 in c:\\users\\yasha\\anaconda3\\lib\\site-packages (from umap-learn) (0.57.1)\n",
      "Collecting pynndescent>=0.5 (from umap-learn)\n",
      "  Obtaining dependency information for pynndescent>=0.5 from https://files.pythonhosted.org/packages/d2/53/d23a97e0a2c690d40b165d1062e2c4ccc796be458a1ce59f6ba030434663/pynndescent-0.5.13-py3-none-any.whl.metadata\n",
      "  Using cached pynndescent-0.5.13-py3-none-any.whl.metadata (6.8 kB)\n",
      "Requirement already satisfied: tqdm in c:\\users\\yasha\\anaconda3\\lib\\site-packages (from umap-learn) (4.65.0)\n",
      "Requirement already satisfied: llvmlite<0.41,>=0.40.0dev0 in c:\\users\\yasha\\anaconda3\\lib\\site-packages (from numba>=0.51.2->umap-learn) (0.40.0)\n",
      "Collecting numpy>=1.23 (from umap-learn)\n",
      "  Obtaining dependency information for numpy>=1.23 from https://files.pythonhosted.org/packages/d8/ec/ebef2f7d7c28503f958f0f8b992e7ce606fb74f9e891199329d5f5f87404/numpy-1.24.4-cp311-cp311-win_amd64.whl.metadata\n",
      "  Using cached numpy-1.24.4-cp311-cp311-win_amd64.whl.metadata (5.6 kB)\n",
      "Requirement already satisfied: joblib>=0.11 in c:\\users\\yasha\\anaconda3\\lib\\site-packages (from pynndescent>=0.5->umap-learn) (1.2.0)\n",
      "Requirement already satisfied: threadpoolctl>=3.1.0 in c:\\users\\yasha\\anaconda3\\lib\\site-packages (from scikit-learn>=1.6->umap-learn) (3.6.0)\n",
      "INFO: pip is looking at multiple versions of scipy to determine which version is compatible with other requirements. This could take a while.\n",
      "Collecting scipy>=1.3.1 (from umap-learn)\n",
      "  Obtaining dependency information for scipy>=1.3.1 from https://files.pythonhosted.org/packages/d6/73/c449a7d56ba6e6f874183759f8483cde21f900a8be117d67ffbb670c2958/scipy-1.16.2-cp311-cp311-win_amd64.whl.metadata\n",
      "  Using cached scipy-1.16.2-cp311-cp311-win_amd64.whl.metadata (60 kB)\n",
      "  Obtaining dependency information for scipy>=1.3.1 from https://files.pythonhosted.org/packages/c4/94/994369978509f227cba7dfb9e623254d0d5559506fe994aef4bea3ed469c/scipy-1.16.1-cp311-cp311-win_amd64.whl.metadata\n",
      "  Using cached scipy-1.16.1-cp311-cp311-win_amd64.whl.metadata (60 kB)\n",
      "  Obtaining dependency information for scipy>=1.3.1 from https://files.pythonhosted.org/packages/ab/a7/0ddaf514ce8a8714f6ed243a2b391b41dbb65251affe21ee3077ec45ea9a/scipy-1.15.3-cp311-cp311-win_amd64.whl.metadata\n",
      "  Using cached scipy-1.15.3-cp311-cp311-win_amd64.whl.metadata (60 kB)\n",
      "Requirement already satisfied: colorama in c:\\users\\yasha\\anaconda3\\lib\\site-packages (from tqdm->umap-learn) (0.4.6)\n",
      "Using cached umap_learn-0.5.9.post2-py3-none-any.whl (90 kB)\n",
      "Using cached numpy-1.24.4-cp311-cp311-win_amd64.whl (14.8 MB)\n",
      "Using cached pynndescent-0.5.13-py3-none-any.whl (56 kB)\n",
      "Using cached scikit_learn-1.7.2-cp311-cp311-win_amd64.whl (8.9 MB)\n",
      "Using cached scipy-1.15.3-cp311-cp311-win_amd64.whl (41.2 MB)\n",
      "Installing collected packages: numpy, scipy, scikit-learn, pynndescent, umap-learn\n",
      "  Attempting uninstall: numpy\n",
      "    Found existing installation: numpy 2.3.4\n",
      "    Uninstalling numpy-2.3.4:\n",
      "      Successfully uninstalled numpy-2.3.4\n",
      "  Attempting uninstall: scipy\n",
      "    Found existing installation: scipy 1.16.0\n",
      "    Uninstalling scipy-1.16.0:\n",
      "      Successfully uninstalled scipy-1.16.0\n",
      "  Attempting uninstall: scikit-learn\n",
      "    Found existing installation: scikit-learn 1.3.0\n",
      "    Uninstalling scikit-learn-1.3.0:\n",
      "      Successfully uninstalled scikit-learn-1.3.0\n",
      "Successfully installed numpy-1.24.4 pynndescent-0.5.13 scikit-learn-1.7.2 scipy-1.15.3 umap-learn-0.5.9.post2\n"
     ]
    },
    {
     "name": "stderr",
     "output_type": "stream",
     "text": [
      "ERROR: pip's dependency resolver does not currently take into account all the packages that are installed. This behaviour is the source of the following dependency conflicts.\n",
      "tables 3.8.0 requires blosc2~=2.0.0, which is not installed.\n",
      "tables 3.8.0 requires cython>=0.29.21, which is not installed.\n",
      "jax 0.6.2 requires numpy>=1.26, but you have numpy 1.24.4 which is incompatible.\n",
      "jaxlib 0.6.2 requires numpy>=1.26, but you have numpy 1.24.4 which is incompatible.\n",
      "tensorflow 2.19.0 requires numpy<2.2.0,>=1.26.0, but you have numpy 1.24.4 which is incompatible.\n"
     ]
    }
   ],
   "source": [
    "!pip install umap-learn"
   ]
  },
  {
   "cell_type": "code",
   "execution_count": 23,
   "id": "6ce39b9a",
   "metadata": {},
   "outputs": [
    {
     "name": "stdout",
     "output_type": "stream",
     "text": [
      "Requirement already satisfied: numpy in c:\\users\\yasha\\anaconda3\\lib\\site-packages (1.24.4)\n",
      "Collecting numpy\n",
      "  Obtaining dependency information for numpy from https://files.pythonhosted.org/packages/7d/10/f8850982021cb90e2ec31990291f9e830ce7d94eef432b15066e7cbe0bec/numpy-2.3.4-cp311-cp311-win_amd64.whl.metadata\n",
      "  Using cached numpy-2.3.4-cp311-cp311-win_amd64.whl.metadata (60 kB)\n",
      "Using cached numpy-2.3.4-cp311-cp311-win_amd64.whl (13.1 MB)\n",
      "Installing collected packages: numpy\n",
      "  Attempting uninstall: numpy\n",
      "    Found existing installation: numpy 1.24.4\n",
      "    Uninstalling numpy-1.24.4:\n",
      "      Successfully uninstalled numpy-1.24.4\n",
      "Successfully installed numpy-2.3.4\n"
     ]
    },
    {
     "name": "stderr",
     "output_type": "stream",
     "text": [
      "ERROR: pip's dependency resolver does not currently take into account all the packages that are installed. This behaviour is the source of the following dependency conflicts.\n",
      "tables 3.8.0 requires blosc2~=2.0.0, which is not installed.\n",
      "tables 3.8.0 requires cython>=0.29.21, which is not installed.\n",
      "mediapipe 0.10.21 requires numpy<2, but you have numpy 2.3.4 which is incompatible.\n",
      "numba 0.57.1 requires numpy<1.25,>=1.21, but you have numpy 2.3.4 which is incompatible.\n",
      "tensorflow 2.19.0 requires numpy<2.2.0,>=1.26.0, but you have numpy 2.3.4 which is incompatible.\n"
     ]
    },
    {
     "name": "stdout",
     "output_type": "stream",
     "text": [
      "Requirement already satisfied: pandas in c:\\users\\yasha\\anaconda3\\lib\\site-packages (2.3.3)\n",
      "Requirement already satisfied: numpy>=1.23.2 in c:\\users\\yasha\\anaconda3\\lib\\site-packages (from pandas) (2.3.4)\n",
      "Requirement already satisfied: python-dateutil>=2.8.2 in c:\\users\\yasha\\anaconda3\\lib\\site-packages (from pandas) (2.8.2)\n",
      "Requirement already satisfied: pytz>=2020.1 in c:\\users\\yasha\\anaconda3\\lib\\site-packages (from pandas) (2023.3.post1)\n",
      "Requirement already satisfied: tzdata>=2022.7 in c:\\users\\yasha\\anaconda3\\lib\\site-packages (from pandas) (2023.3)\n",
      "Requirement already satisfied: six>=1.5 in c:\\users\\yasha\\anaconda3\\lib\\site-packages (from python-dateutil>=2.8.2->pandas) (1.16.0)\n"
     ]
    }
   ],
   "source": [
    "!pip install --upgrade numpy\n",
    "!pip install --upgrade pandas"
   ]
  },
  {
   "cell_type": "code",
   "execution_count": 3,
   "id": "d2f8ea00",
   "metadata": {},
   "outputs": [],
   "source": [
    "import sys"
   ]
  },
  {
   "cell_type": "code",
   "execution_count": 4,
   "id": "3044af72",
   "metadata": {},
   "outputs": [
    {
     "name": "stdout",
     "output_type": "stream",
     "text": [
      "Requirement already satisfied: transformers in c:\\users\\yasha\\appdata\\roaming\\python\\python310\\site-packages (4.57.1)"
     ]
    },
    {
     "name": "stderr",
     "output_type": "stream",
     "text": [
      "  WARNING: The script datasets-cli.exe is installed in 'C:\\Users\\yasha\\anaconda3\\envs\\torch_cpu\\Scripts' which is not on PATH.\n",
      "  Consider adding this directory to PATH or, if you prefer to suppress this warning, use --no-warn-script-location.\n",
      "ERROR: pip's dependency resolver does not currently take into account all the packages that are installed. This behaviour is the source of the following dependency conflicts.\n",
      "deepface 0.0.79 requires keras>=2.2.0, which is not installed.\n",
      "deepface 0.0.79 requires tensorflow>=1.9.0, which is not installed.\n",
      "retina-face 0.0.13 requires tensorflow>=1.9.0, which is not installed.\n",
      "streamlit 1.46.1 requires protobuf<7,>=3.20, which is not installed.\n",
      "llama-index-embeddings-openai 0.5.1 requires llama-index-core<0.15,>=0.13.0, but you have llama-index-core 0.12.52.post1 which is incompatible.\n",
      "llama-index-indices-managed-llama-cloud 0.9.4 requires llama-index-core<0.15,>=0.13.0, but you have llama-index-core 0.12.52.post1 which is incompatible.\n",
      "llama-index-llms-openai 0.6.5 requires llama-index-core<0.15,>=0.14.5, but you have llama-index-core 0.12.52.post1 which is incompatible.\n",
      "llama-index-readers-file 0.5.4 requires llama-index-core<0.15,>=0.13.0, but you have llama-index-core 0.12.52.post1 which is incompatible.\n",
      "llama-index-readers-file 0.5.4 requires pandas<2.3.0, but you have pandas 2.3.3 which is incompatible.\n",
      "llama-index-readers-llama-parse 0.5.1 requires llama-index-core<0.15,>=0.13.0, but you have llama-index-core 0.12.52.post1 which is incompatible.\n",
      "\n",
      "[notice] A new release of pip is available: 25.1.1 -> 25.2\n",
      "[notice] To update, run: C:\\Users\\yasha\\anaconda3\\envs\\torch_cpu\\python.exe -m pip install --upgrade pip\n"
     ]
    },
    {
     "name": "stdout",
     "output_type": "stream",
     "text": [
      "\n",
      "Collecting datasets\n",
      "  Downloading datasets-4.3.0-py3-none-any.whl.metadata (18 kB)\n",
      "Collecting bertviz\n",
      "  Downloading bertviz-1.4.1-py3-none-any.whl.metadata (19 kB)\n",
      "Collecting umap-learn\n",
      "  Downloading umap_learn-0.5.9.post2-py3-none-any.whl.metadata (25 kB)\n",
      "Requirement already satisfied: numpy in c:\\users\\yasha\\anaconda3\\envs\\torch_cpu\\lib\\site-packages (2.2.6)\n",
      "Requirement already satisfied: pandas in c:\\users\\yasha\\appdata\\roaming\\python\\python310\\site-packages (2.0.3)\n",
      "Collecting pandas\n",
      "  Downloading pandas-2.3.3-cp310-cp310-win_amd64.whl.metadata (19 kB)\n",
      "Requirement already satisfied: filelock in c:\\users\\yasha\\appdata\\roaming\\python\\python310\\site-packages (from transformers) (3.12.2)\n",
      "Requirement already satisfied: huggingface-hub<1.0,>=0.34.0 in c:\\users\\yasha\\appdata\\roaming\\python\\python310\\site-packages (from transformers) (0.35.3)\n",
      "Requirement already satisfied: packaging>=20.0 in c:\\users\\yasha\\appdata\\roaming\\python\\python310\\site-packages (from transformers) (25.0)\n",
      "Requirement already satisfied: pyyaml>=5.1 in c:\\users\\yasha\\appdata\\roaming\\python\\python310\\site-packages (from transformers) (6.0.1)\n",
      "Requirement already satisfied: regex!=2019.12.17 in c:\\users\\yasha\\appdata\\roaming\\python\\python310\\site-packages (from transformers) (2025.9.18)\n",
      "Requirement already satisfied: requests in c:\\users\\yasha\\appdata\\roaming\\python\\python310\\site-packages (from transformers) (2.31.0)\n",
      "Requirement already satisfied: tokenizers<=0.23.0,>=0.22.0 in c:\\users\\yasha\\appdata\\roaming\\python\\python310\\site-packages (from transformers) (0.22.1)\n",
      "Requirement already satisfied: safetensors>=0.4.3 in c:\\users\\yasha\\appdata\\roaming\\python\\python310\\site-packages (from transformers) (0.6.2)\n",
      "Requirement already satisfied: tqdm>=4.27 in c:\\users\\yasha\\appdata\\roaming\\python\\python310\\site-packages (from transformers) (4.67.1)\n",
      "Requirement already satisfied: fsspec>=2023.5.0 in c:\\users\\yasha\\appdata\\roaming\\python\\python310\\site-packages (from huggingface-hub<1.0,>=0.34.0->transformers) (2025.9.0)\n",
      "Requirement already satisfied: typing-extensions>=3.7.4.3 in c:\\users\\yasha\\appdata\\roaming\\python\\python310\\site-packages (from huggingface-hub<1.0,>=0.34.0->transformers) (4.15.0)\n",
      "Collecting pyarrow>=21.0.0 (from datasets)\n",
      "  Downloading pyarrow-22.0.0-cp310-cp310-win_amd64.whl.metadata (3.3 kB)\n",
      "Collecting dill<0.4.1,>=0.3.0 (from datasets)\n",
      "  Downloading dill-0.4.0-py3-none-any.whl.metadata (10 kB)\n",
      "Collecting requests (from transformers)\n",
      "  Using cached requests-2.32.5-py3-none-any.whl.metadata (4.9 kB)\n",
      "Requirement already satisfied: httpx<1.0.0 in c:\\users\\yasha\\appdata\\roaming\\python\\python310\\site-packages (from datasets) (0.27.0)\n",
      "Requirement already satisfied: xxhash in c:\\users\\yasha\\appdata\\roaming\\python\\python310\\site-packages (from datasets) (3.6.0)\n",
      "Collecting multiprocess<0.70.17 (from datasets)\n",
      "  Downloading multiprocess-0.70.16-py310-none-any.whl.metadata (7.2 kB)\n",
      "Requirement already satisfied: aiohttp!=4.0.0a0,!=4.0.0a1 in c:\\users\\yasha\\appdata\\roaming\\python\\python310\\site-packages (from fsspec[http]<=2025.9.0,>=2023.1.0->datasets) (3.13.1)\n",
      "Requirement already satisfied: anyio in c:\\users\\yasha\\appdata\\roaming\\python\\python310\\site-packages (from httpx<1.0.0->datasets) (4.3.0)\n",
      "Requirement already satisfied: certifi in c:\\users\\yasha\\appdata\\roaming\\python\\python310\\site-packages (from httpx<1.0.0->datasets) (2025.10.5)\n",
      "Requirement already satisfied: httpcore==1.* in c:\\users\\yasha\\appdata\\roaming\\python\\python310\\site-packages (from httpx<1.0.0->datasets) (1.0.4)\n",
      "Requirement already satisfied: idna in c:\\users\\yasha\\appdata\\roaming\\python\\python310\\site-packages (from httpx<1.0.0->datasets) (2.10)\n",
      "Requirement already satisfied: sniffio in c:\\users\\yasha\\appdata\\roaming\\python\\python310\\site-packages (from httpx<1.0.0->datasets) (1.3.0)\n",
      "Requirement already satisfied: h11<0.15,>=0.13 in c:\\users\\yasha\\appdata\\roaming\\python\\python310\\site-packages (from httpcore==1.*->httpx<1.0.0->datasets) (0.14.0)\n",
      "Requirement already satisfied: torch>=1.0 in c:\\users\\yasha\\appdata\\roaming\\python\\python310\\site-packages (from bertviz) (2.9.0)\n",
      "Collecting boto3 (from bertviz)\n",
      "  Downloading boto3-1.40.59-py3-none-any.whl.metadata (6.6 kB)\n",
      "Collecting sentencepiece (from bertviz)\n",
      "  Downloading sentencepiece-0.2.1-cp310-cp310-win_amd64.whl.metadata (10 kB)\n",
      "Requirement already satisfied: IPython>=7.14 in c:\\users\\yasha\\appdata\\roaming\\python\\python310\\site-packages (from bertviz) (8.22.2)\n",
      "Requirement already satisfied: scipy>=1.3.1 in c:\\users\\yasha\\anaconda3\\envs\\torch_cpu\\lib\\site-packages (from umap-learn) (1.15.3)\n",
      "Requirement already satisfied: scikit-learn>=1.6 in c:\\users\\yasha\\appdata\\roaming\\python\\python310\\site-packages (from umap-learn) (1.6.1)\n",
      "Collecting numba>=0.51.2 (from umap-learn)\n",
      "  Downloading numba-0.62.1-cp310-cp310-win_amd64.whl.metadata (2.9 kB)\n",
      "Collecting pynndescent>=0.5 (from umap-learn)\n",
      "  Downloading pynndescent-0.5.13-py3-none-any.whl.metadata (6.8 kB)\n",
      "Requirement already satisfied: python-dateutil>=2.8.2 in c:\\users\\yasha\\appdata\\roaming\\python\\python310\\site-packages (from pandas) (2.8.2)\n",
      "Requirement already satisfied: pytz>=2020.1 in c:\\users\\yasha\\appdata\\roaming\\python\\python310\\site-packages (from pandas) (2023.3)\n",
      "Requirement already satisfied: tzdata>=2022.7 in c:\\users\\yasha\\appdata\\roaming\\python\\python310\\site-packages (from pandas) (2023.3)\n",
      "Requirement already satisfied: aiohappyeyeballs>=2.5.0 in c:\\users\\yasha\\appdata\\roaming\\python\\python310\\site-packages (from aiohttp!=4.0.0a0,!=4.0.0a1->fsspec[http]<=2025.9.0,>=2023.1.0->datasets) (2.6.1)\n",
      "Requirement already satisfied: aiosignal>=1.4.0 in c:\\users\\yasha\\appdata\\roaming\\python\\python310\\site-packages (from aiohttp!=4.0.0a0,!=4.0.0a1->fsspec[http]<=2025.9.0,>=2023.1.0->datasets) (1.4.0)\n",
      "Requirement already satisfied: async-timeout<6.0,>=4.0 in c:\\users\\yasha\\appdata\\roaming\\python\\python310\\site-packages (from aiohttp!=4.0.0a0,!=4.0.0a1->fsspec[http]<=2025.9.0,>=2023.1.0->datasets) (4.0.2)\n",
      "Requirement already satisfied: attrs>=17.3.0 in c:\\users\\yasha\\appdata\\roaming\\python\\python310\\site-packages (from aiohttp!=4.0.0a0,!=4.0.0a1->fsspec[http]<=2025.9.0,>=2023.1.0->datasets) (23.1.0)\n",
      "Requirement already satisfied: frozenlist>=1.1.1 in c:\\users\\yasha\\appdata\\roaming\\python\\python310\\site-packages (from aiohttp!=4.0.0a0,!=4.0.0a1->fsspec[http]<=2025.9.0,>=2023.1.0->datasets) (1.4.0)\n",
      "Requirement already satisfied: multidict<7.0,>=4.5 in c:\\users\\yasha\\appdata\\roaming\\python\\python310\\site-packages (from aiohttp!=4.0.0a0,!=4.0.0a1->fsspec[http]<=2025.9.0,>=2023.1.0->datasets) (6.0.4)\n",
      "Requirement already satisfied: propcache>=0.2.0 in c:\\users\\yasha\\appdata\\roaming\\python\\python310\\site-packages (from aiohttp!=4.0.0a0,!=4.0.0a1->fsspec[http]<=2025.9.0,>=2023.1.0->datasets) (0.4.1)\n",
      "Requirement already satisfied: yarl<2.0,>=1.17.0 in c:\\users\\yasha\\appdata\\roaming\\python\\python310\\site-packages (from aiohttp!=4.0.0a0,!=4.0.0a1->fsspec[http]<=2025.9.0,>=2023.1.0->datasets) (1.22.0)\n",
      "Requirement already satisfied: decorator in c:\\users\\yasha\\appdata\\roaming\\python\\python310\\site-packages (from IPython>=7.14->bertviz) (5.1.1)\n",
      "Requirement already satisfied: jedi>=0.16 in c:\\users\\yasha\\appdata\\roaming\\python\\python310\\site-packages (from IPython>=7.14->bertviz) (0.19.1)\n",
      "Requirement already satisfied: matplotlib-inline in c:\\users\\yasha\\appdata\\roaming\\python\\python310\\site-packages (from IPython>=7.14->bertviz) (0.1.6)\n",
      "Requirement already satisfied: prompt-toolkit<3.1.0,>=3.0.41 in c:\\users\\yasha\\appdata\\roaming\\python\\python310\\site-packages (from IPython>=7.14->bertviz) (3.0.43)\n",
      "Requirement already satisfied: pygments>=2.4.0 in c:\\users\\yasha\\appdata\\roaming\\python\\python310\\site-packages (from IPython>=7.14->bertviz) (2.17.2)\n",
      "Requirement already satisfied: stack-data in c:\\users\\yasha\\appdata\\roaming\\python\\python310\\site-packages (from IPython>=7.14->bertviz) (0.6.3)\n",
      "Requirement already satisfied: traitlets>=5.13.0 in c:\\users\\yasha\\appdata\\roaming\\python\\python310\\site-packages (from IPython>=7.14->bertviz) (5.14.2)\n",
      "Requirement already satisfied: exceptiongroup in c:\\users\\yasha\\appdata\\roaming\\python\\python310\\site-packages (from IPython>=7.14->bertviz) (1.2.0)\n",
      "Requirement already satisfied: colorama in c:\\users\\yasha\\appdata\\roaming\\python\\python310\\site-packages (from IPython>=7.14->bertviz) (0.4.6)\n",
      "Requirement already satisfied: wcwidth in c:\\users\\yasha\\appdata\\roaming\\python\\python310\\site-packages (from prompt-toolkit<3.1.0,>=3.0.41->IPython>=7.14->bertviz) (0.2.13)\n",
      "Requirement already satisfied: parso<0.9.0,>=0.8.3 in c:\\users\\yasha\\appdata\\roaming\\python\\python310\\site-packages (from jedi>=0.16->IPython>=7.14->bertviz) (0.8.3)\n",
      "Collecting llvmlite<0.46,>=0.45.0dev0 (from numba>=0.51.2->umap-learn)\n",
      "  Downloading llvmlite-0.45.1-cp310-cp310-win_amd64.whl.metadata (5.0 kB)\n",
      "Requirement already satisfied: joblib>=0.11 in c:\\users\\yasha\\appdata\\roaming\\python\\python310\\site-packages (from pynndescent>=0.5->umap-learn) (1.4.2)\n",
      "Requirement already satisfied: six>=1.5 in c:\\users\\yasha\\appdata\\roaming\\python\\python310\\site-packages (from python-dateutil>=2.8.2->pandas) (1.16.0)\n",
      "Requirement already satisfied: charset_normalizer<4,>=2 in c:\\users\\yasha\\appdata\\roaming\\python\\python310\\site-packages (from requests->transformers) (3.2.0)\n",
      "Requirement already satisfied: urllib3<3,>=1.21.1 in c:\\users\\yasha\\appdata\\roaming\\python\\python310\\site-packages (from requests->transformers) (1.26.16)\n",
      "Requirement already satisfied: threadpoolctl>=3.1.0 in c:\\users\\yasha\\appdata\\roaming\\python\\python310\\site-packages (from scikit-learn>=1.6->umap-learn) (3.3.0)\n",
      "Requirement already satisfied: sympy>=1.13.3 in c:\\users\\yasha\\appdata\\roaming\\python\\python310\\site-packages (from torch>=1.0->bertviz) (1.14.0)\n",
      "Requirement already satisfied: networkx>=2.5.1 in c:\\users\\yasha\\appdata\\roaming\\python\\python310\\site-packages (from torch>=1.0->bertviz) (3.4.2)\n",
      "Requirement already satisfied: jinja2 in c:\\users\\yasha\\appdata\\roaming\\python\\python310\\site-packages (from torch>=1.0->bertviz) (3.1.2)\n",
      "Requirement already satisfied: mpmath<1.4,>=1.1.0 in c:\\users\\yasha\\appdata\\roaming\\python\\python310\\site-packages (from sympy>=1.13.3->torch>=1.0->bertviz) (1.3.0)\n",
      "Collecting botocore<1.41.0,>=1.40.59 (from boto3->bertviz)\n",
      "  Downloading botocore-1.40.59-py3-none-any.whl.metadata (5.7 kB)\n",
      "Collecting jmespath<2.0.0,>=0.7.1 (from boto3->bertviz)\n",
      "  Downloading jmespath-1.0.1-py3-none-any.whl.metadata (7.6 kB)\n",
      "Collecting s3transfer<0.15.0,>=0.14.0 (from boto3->bertviz)\n",
      "  Downloading s3transfer-0.14.0-py3-none-any.whl.metadata (1.7 kB)\n",
      "Requirement already satisfied: MarkupSafe>=2.0 in c:\\users\\yasha\\appdata\\roaming\\python\\python310\\site-packages (from jinja2->torch>=1.0->bertviz) (2.1.3)\n",
      "Requirement already satisfied: executing>=1.2.0 in c:\\users\\yasha\\appdata\\roaming\\python\\python310\\site-packages (from stack-data->IPython>=7.14->bertviz) (2.0.1)\n",
      "Requirement already satisfied: asttokens>=2.1.0 in c:\\users\\yasha\\appdata\\roaming\\python\\python310\\site-packages (from stack-data->IPython>=7.14->bertviz) (2.4.1)\n",
      "Requirement already satisfied: pure-eval in c:\\users\\yasha\\appdata\\roaming\\python\\python310\\site-packages (from stack-data->IPython>=7.14->bertviz) (0.2.2)\n",
      "Downloading datasets-4.3.0-py3-none-any.whl (506 kB)\n",
      "Downloading dill-0.4.0-py3-none-any.whl (119 kB)\n",
      "Downloading multiprocess-0.70.16-py310-none-any.whl (134 kB)\n",
      "Downloading bertviz-1.4.1-py3-none-any.whl (157 kB)\n",
      "Downloading umap_learn-0.5.9.post2-py3-none-any.whl (90 kB)\n",
      "Downloading pandas-2.3.3-cp310-cp310-win_amd64.whl (11.3 MB)\n",
      "   ---------------------------------------- 0.0/11.3 MB ? eta -:--:--\n",
      "   ------- -------------------------------- 2.1/11.3 MB 9.8 MB/s eta 0:00:01\n",
      "   -------------- ------------------------- 4.2/11.3 MB 10.5 MB/s eta 0:00:01\n",
      "   ------------------- -------------------- 5.5/11.3 MB 8.8 MB/s eta 0:00:01\n",
      "   ----------------------- ---------------- 6.6/11.3 MB 7.7 MB/s eta 0:00:01\n",
      "   -------------------------- ------------- 7.6/11.3 MB 6.9 MB/s eta 0:00:01\n",
      "   ----------------------------- ---------- 8.4/11.3 MB 6.5 MB/s eta 0:00:01\n",
      "   --------------------------------- ------ 9.4/11.3 MB 6.2 MB/s eta 0:00:01\n",
      "   ------------------------------------- -- 10.7/11.3 MB 6.2 MB/s eta 0:00:01\n",
      "   ---------------------------------------- 11.3/11.3 MB 6.0 MB/s eta 0:00:00\n",
      "Downloading numba-0.62.1-cp310-cp310-win_amd64.whl (2.7 MB)\n",
      "   ---------------------------------------- 0.0/2.7 MB ? eta -:--:--\n",
      "   ------------------- -------------------- 1.3/2.7 MB 6.1 MB/s eta 0:00:01\n",
      "   ---------------------------------------- 2.7/2.7 MB 6.4 MB/s eta 0:00:00\n",
      "Downloading llvmlite-0.45.1-cp310-cp310-win_amd64.whl (38.1 MB)\n",
      "   ---------------------------------------- 0.0/38.1 MB ? eta -:--:--\n",
      "   - -------------------------------------- 1.6/38.1 MB 7.0 MB/s eta 0:00:06\n",
      "   --- ------------------------------------ 3.1/38.1 MB 7.4 MB/s eta 0:00:05\n",
      "   ---- ----------------------------------- 4.7/38.1 MB 7.3 MB/s eta 0:00:05\n",
      "   ------ --------------------------------- 6.0/38.1 MB 7.0 MB/s eta 0:00:05\n",
      "   ------- -------------------------------- 7.1/38.1 MB 6.7 MB/s eta 0:00:05\n",
      "   ------- -------------------------------- 7.3/38.1 MB 6.1 MB/s eta 0:00:06\n",
      "   -------- ------------------------------- 8.1/38.1 MB 5.3 MB/s eta 0:00:06\n",
      "   --------- ------------------------------ 8.7/38.1 MB 5.1 MB/s eta 0:00:06\n",
      "   --------- ------------------------------ 9.4/38.1 MB 4.9 MB/s eta 0:00:06\n",
      "   ---------- ----------------------------- 10.5/38.1 MB 4.8 MB/s eta 0:00:06\n",
      "   ------------ --------------------------- 11.5/38.1 MB 4.8 MB/s eta 0:00:06\n",
      "   ------------- -------------------------- 12.6/38.1 MB 4.8 MB/s eta 0:00:06\n",
      "   -------------- ------------------------- 13.9/38.1 MB 4.9 MB/s eta 0:00:05\n",
      "   --------------- ------------------------ 14.7/38.1 MB 4.8 MB/s eta 0:00:05\n",
      "   ---------------- ----------------------- 15.5/38.1 MB 4.7 MB/s eta 0:00:05\n",
      "   ----------------- ---------------------- 16.5/38.1 MB 4.7 MB/s eta 0:00:05\n",
      "   ------------------ --------------------- 17.6/38.1 MB 4.7 MB/s eta 0:00:05\n",
      "   ------------------- -------------------- 18.9/38.1 MB 4.7 MB/s eta 0:00:05\n",
      "   -------------------- ------------------- 19.9/38.1 MB 4.7 MB/s eta 0:00:04\n",
      "   ---------------------- ----------------- 21.2/38.1 MB 4.8 MB/s eta 0:00:04\n",
      "   ----------------------- ---------------- 22.5/38.1 MB 4.8 MB/s eta 0:00:04\n",
      "   ------------------------- -------------- 24.1/38.1 MB 4.9 MB/s eta 0:00:03\n",
      "   --------------------------- ------------ 26.0/38.1 MB 5.1 MB/s eta 0:00:03\n",
      "   ----------------------------- ---------- 27.8/38.1 MB 5.2 MB/s eta 0:00:02\n",
      "   ------------------------------ --------- 29.4/38.1 MB 5.3 MB/s eta 0:00:02\n",
      "   -------------------------------- ------- 30.7/38.1 MB 5.3 MB/s eta 0:00:02\n",
      "   --------------------------------- ------ 32.0/38.1 MB 5.3 MB/s eta 0:00:02\n",
      "   ---------------------------------- ----- 33.3/38.1 MB 5.4 MB/s eta 0:00:01\n",
      "   ------------------------------------ --- 34.6/38.1 MB 5.4 MB/s eta 0:00:01\n",
      "   ------------------------------------- -- 36.2/38.1 MB 5.4 MB/s eta 0:00:01\n",
      "   ---------------------------------------  37.5/38.1 MB 5.5 MB/s eta 0:00:01\n",
      "   ---------------------------------------  38.0/38.1 MB 5.5 MB/s eta 0:00:01\n",
      "   ---------------------------------------- 38.1/38.1 MB 5.3 MB/s eta 0:00:00\n",
      "Downloading pyarrow-22.0.0-cp310-cp310-win_amd64.whl (28.1 MB)\n",
      "   ---------------------------------------- 0.0/28.1 MB ? eta -:--:--\n",
      "   - -------------------------------------- 1.3/28.1 MB 6.1 MB/s eta 0:00:05\n",
      "   --- ------------------------------------ 2.6/28.1 MB 6.6 MB/s eta 0:00:04\n",
      "   ----- ---------------------------------- 4.2/28.1 MB 6.6 MB/s eta 0:00:04\n",
      "   -------- ------------------------------- 5.8/28.1 MB 6.6 MB/s eta 0:00:04\n",
      "   ---------- ----------------------------- 7.6/28.1 MB 6.9 MB/s eta 0:00:03\n",
      "   ------------ --------------------------- 8.9/28.1 MB 6.8 MB/s eta 0:00:03\n",
      "   --------------- ------------------------ 10.7/28.1 MB 7.0 MB/s eta 0:00:03\n",
      "   ----------------- ---------------------- 12.6/28.1 MB 7.2 MB/s eta 0:00:03\n",
      "   ------------------- -------------------- 13.9/28.1 MB 7.0 MB/s eta 0:00:03\n",
      "   --------------------- ------------------ 14.9/28.1 MB 6.9 MB/s eta 0:00:02\n",
      "   ---------------------- ----------------- 15.7/28.1 MB 6.5 MB/s eta 0:00:02\n",
      "   ----------------------- ---------------- 16.5/28.1 MB 6.2 MB/s eta 0:00:02\n",
      "   ------------------------- -------------- 17.6/28.1 MB 6.1 MB/s eta 0:00:02\n",
      "   -------------------------- ------------- 18.6/28.1 MB 6.1 MB/s eta 0:00:02\n",
      "   --------------------------- ------------ 19.7/28.1 MB 6.0 MB/s eta 0:00:02\n",
      "   ----------------------------- ---------- 20.7/28.1 MB 5.9 MB/s eta 0:00:02\n",
      "   ------------------------------- -------- 22.0/28.1 MB 5.9 MB/s eta 0:00:02\n",
      "   --------------------------------- ------ 23.3/28.1 MB 5.9 MB/s eta 0:00:01\n",
      "   ----------------------------------- ---- 24.6/28.1 MB 5.8 MB/s eta 0:00:01\n",
      "   ------------------------------------- -- 26.5/28.1 MB 6.0 MB/s eta 0:00:01\n",
      "   ---------------------------------------  28.0/28.1 MB 6.0 MB/s eta 0:00:01\n",
      "   ---------------------------------------- 28.1/28.1 MB 5.7 MB/s eta 0:00:00\n",
      "Downloading pynndescent-0.5.13-py3-none-any.whl (56 kB)\n",
      "Using cached requests-2.32.5-py3-none-any.whl (64 kB)\n",
      "Downloading boto3-1.40.59-py3-none-any.whl (139 kB)\n",
      "Downloading botocore-1.40.59-py3-none-any.whl (14.1 MB)\n",
      "   ---------------------------------------- 0.0/14.1 MB ? eta -:--:--\n",
      "   ---- ----------------------------------- 1.6/14.1 MB 7.6 MB/s eta 0:00:02\n",
      "   -------- ------------------------------- 2.9/14.1 MB 7.3 MB/s eta 0:00:02\n",
      "   ------------ --------------------------- 4.5/14.1 MB 7.2 MB/s eta 0:00:02\n",
      "   ----------------- ---------------------- 6.0/14.1 MB 7.2 MB/s eta 0:00:02\n",
      "   -------------------- ------------------- 7.3/14.1 MB 7.1 MB/s eta 0:00:01\n",
      "   ------------------------- -------------- 9.2/14.1 MB 7.1 MB/s eta 0:00:01\n",
      "   ------------------------------ --------- 10.7/14.1 MB 7.2 MB/s eta 0:00:01\n",
      "   -------------------------------- ------- 11.5/14.1 MB 6.7 MB/s eta 0:00:01\n",
      "   ---------------------------------- ----- 12.1/14.1 MB 6.3 MB/s eta 0:00:01\n",
      "   ------------------------------------ --- 12.8/14.1 MB 6.0 MB/s eta 0:00:01\n",
      "   ---------------------------------------  13.9/14.1 MB 5.8 MB/s eta 0:00:01\n",
      "   ---------------------------------------- 14.1/14.1 MB 5.6 MB/s eta 0:00:00\n",
      "Downloading jmespath-1.0.1-py3-none-any.whl (20 kB)\n",
      "Downloading s3transfer-0.14.0-py3-none-any.whl (85 kB)\n",
      "Downloading sentencepiece-0.2.1-cp310-cp310-win_amd64.whl (1.1 MB)\n",
      "   ---------------------------------------- 0.0/1.1 MB ? eta -:--:--\n",
      "   ---------------------------------------  1.0/1.1 MB 5.6 MB/s eta 0:00:01\n",
      "   ---------------------------------------- 1.1/1.1 MB 3.9 MB/s eta 0:00:00\n",
      "Installing collected packages: sentencepiece, requests, pyarrow, llvmlite, jmespath, dill, pandas, numba, multiprocess, botocore, s3transfer, pynndescent, umap-learn, datasets, boto3, bertviz\n",
      "\n",
      "   ----------------------------------------  0/16 [sentencepiece]\n",
      "   ----------------------------------------  0/16 [sentencepiece]\n",
      "  Attempting uninstall: requests\n",
      "   ----------------------------------------  0/16 [sentencepiece]\n",
      "    Found existing installation: requests 2.31.0\n",
      "   ----------------------------------------  0/16 [sentencepiece]\n",
      "   -- -------------------------------------  1/16 [requests]\n",
      "    Uninstalling requests-2.31.0:\n",
      "   -- -------------------------------------  1/16 [requests]\n",
      "      Successfully uninstalled requests-2.31.0\n",
      "   -- -------------------------------------  1/16 [requests]\n",
      "   -- -------------------------------------  1/16 [requests]\n",
      "   -- -------------------------------------  1/16 [requests]\n",
      "   -- -------------------------------------  1/16 [requests]\n",
      "   -- -------------------------------------  1/16 [requests]\n",
      "  Attempting uninstall: pyarrow\n",
      "   -- -------------------------------------  1/16 [requests]\n",
      "    Found existing installation: pyarrow 20.0.0\n",
      "   -- -------------------------------------  1/16 [requests]\n",
      "   ----- ----------------------------------  2/16 [pyarrow]\n",
      "   ----- ----------------------------------  2/16 [pyarrow]\n",
      "   ----- ----------------------------------  2/16 [pyarrow]\n",
      "   ----- ----------------------------------  2/16 [pyarrow]\n",
      "   ----- ----------------------------------  2/16 [pyarrow]\n",
      "   ----- ----------------------------------  2/16 [pyarrow]\n",
      "   ----- ----------------------------------  2/16 [pyarrow]\n",
      "   ----- ----------------------------------  2/16 [pyarrow]\n",
      "    Uninstalling pyarrow-20.0.0:\n",
      "   ----- ----------------------------------  2/16 [pyarrow]\n",
      "   ----- ----------------------------------  2/16 [pyarrow]\n",
      "   ----- ----------------------------------  2/16 [pyarrow]\n",
      "      Successfully uninstalled pyarrow-20.0.0\n",
      "   ----- ----------------------------------  2/16 [pyarrow]\n",
      "   ----- ----------------------------------  2/16 [pyarrow]\n",
      "   ----- ----------------------------------  2/16 [pyarrow]\n",
      "   ----- ----------------------------------  2/16 [pyarrow]\n",
      "   ----- ----------------------------------  2/16 [pyarrow]\n",
      "   ----- ----------------------------------  2/16 [pyarrow]\n",
      "   ----- ----------------------------------  2/16 [pyarrow]\n",
      "   ----- ----------------------------------  2/16 [pyarrow]\n",
      "   ----- ----------------------------------  2/16 [pyarrow]\n",
      "   ----- ----------------------------------  2/16 [pyarrow]\n",
      "   ----- ----------------------------------  2/16 [pyarrow]\n",
      "   ----- ----------------------------------  2/16 [pyarrow]\n",
      "   ----- ----------------------------------  2/16 [pyarrow]\n",
      "   ----- ----------------------------------  2/16 [pyarrow]\n",
      "   ----- ----------------------------------  2/16 [pyarrow]\n",
      "   ----- ----------------------------------  2/16 [pyarrow]\n",
      "   ----- ----------------------------------  2/16 [pyarrow]\n",
      "   ----- ----------------------------------  2/16 [pyarrow]\n",
      "   ----- ----------------------------------  2/16 [pyarrow]\n",
      "   ----- ----------------------------------  2/16 [pyarrow]\n",
      "   ----- ----------------------------------  2/16 [pyarrow]\n",
      "   ----- ----------------------------------  2/16 [pyarrow]\n",
      "   ----- ----------------------------------  2/16 [pyarrow]\n",
      "   ----- ----------------------------------  2/16 [pyarrow]\n",
      "   ----- ----------------------------------  2/16 [pyarrow]\n",
      "   ----- ----------------------------------  2/16 [pyarrow]\n",
      "   ----- ----------------------------------  2/16 [pyarrow]\n",
      "   ----- ----------------------------------  2/16 [pyarrow]\n",
      "   ----- ----------------------------------  2/16 [pyarrow]\n",
      "   ----- ----------------------------------  2/16 [pyarrow]\n",
      "   ----- ----------------------------------  2/16 [pyarrow]\n",
      "   ----- ----------------------------------  2/16 [pyarrow]\n",
      "   ----- ----------------------------------  2/16 [pyarrow]\n",
      "   ----- ----------------------------------  2/16 [pyarrow]\n",
      "   ----- ----------------------------------  2/16 [pyarrow]\n",
      "   ----- ----------------------------------  2/16 [pyarrow]\n",
      "   ----- ----------------------------------  2/16 [pyarrow]\n",
      "   ----- ----------------------------------  2/16 [pyarrow]\n",
      "   ----- ----------------------------------  2/16 [pyarrow]\n",
      "   ----- ----------------------------------  2/16 [pyarrow]\n",
      "   ----- ----------------------------------  2/16 [pyarrow]\n",
      "   ----- ----------------------------------  2/16 [pyarrow]\n",
      "   ----- ----------------------------------  2/16 [pyarrow]\n",
      "   ----- ----------------------------------  2/16 [pyarrow]\n",
      "   ----- ----------------------------------  2/16 [pyarrow]\n",
      "   ----- ----------------------------------  2/16 [pyarrow]\n",
      "   ----- ----------------------------------  2/16 [pyarrow]\n",
      "   ----- ----------------------------------  2/16 [pyarrow]\n",
      "   ----- ----------------------------------  2/16 [pyarrow]\n",
      "   ----- ----------------------------------  2/16 [pyarrow]\n",
      "   ----- ----------------------------------  2/16 [pyarrow]\n",
      "   ----- ----------------------------------  2/16 [pyarrow]\n",
      "   ----- ----------------------------------  2/16 [pyarrow]\n",
      "   ----- ----------------------------------  2/16 [pyarrow]\n",
      "   ----- ----------------------------------  2/16 [pyarrow]\n",
      "   ----- ----------------------------------  2/16 [pyarrow]\n",
      "   ----- ----------------------------------  2/16 [pyarrow]\n",
      "   ----- ----------------------------------  2/16 [pyarrow]\n",
      "   ----- ----------------------------------  2/16 [pyarrow]\n",
      "   ----- ----------------------------------  2/16 [pyarrow]\n",
      "   ----- ----------------------------------  2/16 [pyarrow]\n",
      "   ----- ----------------------------------  2/16 [pyarrow]\n",
      "   ----- ----------------------------------  2/16 [pyarrow]\n",
      "   ----- ----------------------------------  2/16 [pyarrow]\n",
      "   ----- ----------------------------------  2/16 [pyarrow]\n",
      "   ----- ----------------------------------  2/16 [pyarrow]\n",
      "   ----- ----------------------------------  2/16 [pyarrow]\n",
      "   ----- ----------------------------------  2/16 [pyarrow]\n",
      "   ----- ----------------------------------  2/16 [pyarrow]\n",
      "   ----- ----------------------------------  2/16 [pyarrow]\n",
      "   ----- ----------------------------------  2/16 [pyarrow]\n",
      "   ----- ----------------------------------  2/16 [pyarrow]\n",
      "   ----- ----------------------------------  2/16 [pyarrow]\n",
      "   ----- ----------------------------------  2/16 [pyarrow]\n",
      "   ----- ----------------------------------  2/16 [pyarrow]\n",
      "   ----- ----------------------------------  2/16 [pyarrow]\n",
      "   ----- ----------------------------------  2/16 [pyarrow]\n",
      "   ----- ----------------------------------  2/16 [pyarrow]\n",
      "   ----- ----------------------------------  2/16 [pyarrow]\n",
      "   ----- ----------------------------------  2/16 [pyarrow]\n",
      "   ----- ----------------------------------  2/16 [pyarrow]\n",
      "   ----- ----------------------------------  2/16 [pyarrow]\n",
      "   ----- ----------------------------------  2/16 [pyarrow]\n",
      "   ----- ----------------------------------  2/16 [pyarrow]\n",
      "   ------- --------------------------------  3/16 [llvmlite]\n",
      "   ------- --------------------------------  3/16 [llvmlite]\n",
      "   ------- --------------------------------  3/16 [llvmlite]\n",
      "   ------- --------------------------------  3/16 [llvmlite]\n",
      "   ------- --------------------------------  3/16 [llvmlite]\n",
      "   ------- --------------------------------  3/16 [llvmlite]\n",
      "   ------- --------------------------------  3/16 [llvmlite]\n",
      "   ------- --------------------------------  3/16 [llvmlite]\n",
      "   ------- --------------------------------  3/16 [llvmlite]\n",
      "   ------- --------------------------------  3/16 [llvmlite]\n",
      "   ------- --------------------------------  3/16 [llvmlite]\n",
      "   ------- --------------------------------  3/16 [llvmlite]\n",
      "   ------- --------------------------------  3/16 [llvmlite]\n",
      "   ------- --------------------------------  3/16 [llvmlite]\n",
      "   ------- --------------------------------  3/16 [llvmlite]\n",
      "   ------- --------------------------------  3/16 [llvmlite]\n",
      "   ------- --------------------------------  3/16 [llvmlite]\n",
      "   ------- --------------------------------  3/16 [llvmlite]\n",
      "   ------- --------------------------------  3/16 [llvmlite]\n",
      "   ------- --------------------------------  3/16 [llvmlite]\n",
      "   ------- --------------------------------  3/16 [llvmlite]\n",
      "   ------- --------------------------------  3/16 [llvmlite]\n",
      "   ------- --------------------------------  3/16 [llvmlite]\n",
      "   ------- --------------------------------  3/16 [llvmlite]\n",
      "   ------- --------------------------------  3/16 [llvmlite]\n",
      "   ------- --------------------------------  3/16 [llvmlite]\n",
      "   ------- --------------------------------  3/16 [llvmlite]\n",
      "   ------- --------------------------------  3/16 [llvmlite]\n",
      "   ------- --------------------------------  3/16 [llvmlite]\n",
      "   ------- --------------------------------  3/16 [llvmlite]\n",
      "   ---------- -----------------------------  4/16 [jmespath]\n",
      "   ---------- -----------------------------  4/16 [jmespath]\n",
      "   ------------ ---------------------------  5/16 [dill]\n",
      "   ------------ ---------------------------  5/16 [dill]\n",
      "   ------------ ---------------------------  5/16 [dill]\n",
      "   ------------ ---------------------------  5/16 [dill]\n",
      "   ------------ ---------------------------  5/16 [dill]\n",
      "   ------------ ---------------------------  5/16 [dill]\n",
      "   ------------ ---------------------------  5/16 [dill]\n",
      "   ------------ ---------------------------  5/16 [dill]\n",
      "  Attempting uninstall: pandas\n",
      "   ------------ ---------------------------  5/16 [dill]\n",
      "    Found existing installation: pandas 2.0.3\n",
      "   ------------ ---------------------------  5/16 [dill]\n",
      "   --------------- ------------------------  6/16 [pandas]\n",
      "   --------------- ------------------------  6/16 [pandas]\n",
      "   --------------- ------------------------  6/16 [pandas]\n",
      "   --------------- ------------------------  6/16 [pandas]\n",
      "   --------------- ------------------------  6/16 [pandas]\n",
      "   --------------- ------------------------  6/16 [pandas]\n",
      "   --------------- ------------------------  6/16 [pandas]\n",
      "   --------------- ------------------------  6/16 [pandas]\n",
      "   --------------- ------------------------  6/16 [pandas]\n",
      "   --------------- ------------------------  6/16 [pandas]\n",
      "   --------------- ------------------------  6/16 [pandas]\n",
      "   --------------- ------------------------  6/16 [pandas]\n",
      "   --------------- ------------------------  6/16 [pandas]\n",
      "   --------------- ------------------------  6/16 [pandas]\n",
      "   --------------- ------------------------  6/16 [pandas]\n",
      "   --------------- ------------------------  6/16 [pandas]\n",
      "   --------------- ------------------------  6/16 [pandas]\n",
      "   --------------- ------------------------  6/16 [pandas]\n",
      "   --------------- ------------------------  6/16 [pandas]\n",
      "   --------------- ------------------------  6/16 [pandas]\n",
      "   --------------- ------------------------  6/16 [pandas]\n",
      "   --------------- ------------------------  6/16 [pandas]\n",
      "   --------------- ------------------------  6/16 [pandas]\n",
      "   --------------- ------------------------  6/16 [pandas]\n",
      "   --------------- ------------------------  6/16 [pandas]\n",
      "   --------------- ------------------------  6/16 [pandas]\n",
      "   --------------- ------------------------  6/16 [pandas]\n",
      "   --------------- ------------------------  6/16 [pandas]\n",
      "   --------------- ------------------------  6/16 [pandas]\n",
      "   --------------- ------------------------  6/16 [pandas]\n",
      "   --------------- ------------------------  6/16 [pandas]\n",
      "   --------------- ------------------------  6/16 [pandas]\n",
      "   --------------- ------------------------  6/16 [pandas]\n",
      "   --------------- ------------------------  6/16 [pandas]\n",
      "   --------------- ------------------------  6/16 [pandas]\n",
      "   --------------- ------------------------  6/16 [pandas]\n",
      "   --------------- ------------------------  6/16 [pandas]\n",
      "   --------------- ------------------------  6/16 [pandas]\n",
      "   --------------- ------------------------  6/16 [pandas]\n",
      "   --------------- ------------------------  6/16 [pandas]\n",
      "   --------------- ------------------------  6/16 [pandas]\n",
      "   --------------- ------------------------  6/16 [pandas]\n",
      "    Uninstalling pandas-2.0.3:\n",
      "   --------------- ------------------------  6/16 [pandas]\n",
      "   --------------- ------------------------  6/16 [pandas]\n",
      "   --------------- ------------------------  6/16 [pandas]\n",
      "   --------------- ------------------------  6/16 [pandas]\n",
      "   --------------- ------------------------  6/16 [pandas]\n",
      "   --------------- ------------------------  6/16 [pandas]\n",
      "      Successfully uninstalled pandas-2.0.3\n",
      "   --------------- ------------------------  6/16 [pandas]\n",
      "   --------------- ------------------------  6/16 [pandas]\n",
      "   --------------- ------------------------  6/16 [pandas]\n",
      "   --------------- ------------------------  6/16 [pandas]\n",
      "   --------------- ------------------------  6/16 [pandas]\n",
      "   --------------- ------------------------  6/16 [pandas]\n",
      "   --------------- ------------------------  6/16 [pandas]\n",
      "   --------------- ------------------------  6/16 [pandas]\n",
      "   --------------- ------------------------  6/16 [pandas]\n",
      "   --------------- ------------------------  6/16 [pandas]\n",
      "   --------------- ------------------------  6/16 [pandas]\n",
      "   --------------- ------------------------  6/16 [pandas]\n",
      "   --------------- ------------------------  6/16 [pandas]\n",
      "   --------------- ------------------------  6/16 [pandas]\n",
      "   --------------- ------------------------  6/16 [pandas]\n",
      "   --------------- ------------------------  6/16 [pandas]\n",
      "   --------------- ------------------------  6/16 [pandas]\n",
      "   --------------- ------------------------  6/16 [pandas]\n",
      "   --------------- ------------------------  6/16 [pandas]\n",
      "   --------------- ------------------------  6/16 [pandas]\n",
      "   --------------- ------------------------  6/16 [pandas]\n",
      "   --------------- ------------------------  6/16 [pandas]\n",
      "   --------------- ------------------------  6/16 [pandas]\n",
      "   --------------- ------------------------  6/16 [pandas]\n",
      "   --------------- ------------------------  6/16 [pandas]\n",
      "   --------------- ------------------------  6/16 [pandas]\n",
      "   --------------- ------------------------  6/16 [pandas]\n",
      "   --------------- ------------------------  6/16 [pandas]\n",
      "   --------------- ------------------------  6/16 [pandas]\n",
      "   --------------- ------------------------  6/16 [pandas]\n",
      "   --------------- ------------------------  6/16 [pandas]\n",
      "   --------------- ------------------------  6/16 [pandas]\n",
      "   --------------- ------------------------  6/16 [pandas]\n",
      "   --------------- ------------------------  6/16 [pandas]\n",
      "   --------------- ------------------------  6/16 [pandas]\n",
      "   --------------- ------------------------  6/16 [pandas]\n",
      "   --------------- ------------------------  6/16 [pandas]\n",
      "   --------------- ------------------------  6/16 [pandas]\n",
      "   --------------- ------------------------  6/16 [pandas]\n",
      "   --------------- ------------------------  6/16 [pandas]\n",
      "   --------------- ------------------------  6/16 [pandas]\n",
      "   --------------- ------------------------  6/16 [pandas]\n",
      "   --------------- ------------------------  6/16 [pandas]\n",
      "   --------------- ------------------------  6/16 [pandas]\n",
      "   --------------- ------------------------  6/16 [pandas]\n",
      "   --------------- ------------------------  6/16 [pandas]\n",
      "   --------------- ------------------------  6/16 [pandas]\n",
      "   --------------- ------------------------  6/16 [pandas]\n",
      "   --------------- ------------------------  6/16 [pandas]\n",
      "   --------------- ------------------------  6/16 [pandas]\n",
      "   --------------- ------------------------  6/16 [pandas]\n",
      "   --------------- ------------------------  6/16 [pandas]\n",
      "   --------------- ------------------------  6/16 [pandas]\n",
      "   --------------- ------------------------  6/16 [pandas]\n",
      "   --------------- ------------------------  6/16 [pandas]\n",
      "   --------------- ------------------------  6/16 [pandas]\n",
      "   --------------- ------------------------  6/16 [pandas]\n",
      "   --------------- ------------------------  6/16 [pandas]\n",
      "   --------------- ------------------------  6/16 [pandas]\n",
      "   --------------- ------------------------  6/16 [pandas]\n",
      "   --------------- ------------------------  6/16 [pandas]\n",
      "   --------------- ------------------------  6/16 [pandas]\n",
      "   --------------- ------------------------  6/16 [pandas]\n",
      "   --------------- ------------------------  6/16 [pandas]\n",
      "   --------------- ------------------------  6/16 [pandas]\n",
      "   --------------- ------------------------  6/16 [pandas]\n",
      "   --------------- ------------------------  6/16 [pandas]\n",
      "   --------------- ------------------------  6/16 [pandas]\n",
      "   --------------- ------------------------  6/16 [pandas]\n",
      "   --------------- ------------------------  6/16 [pandas]\n",
      "   --------------- ------------------------  6/16 [pandas]\n",
      "   --------------- ------------------------  6/16 [pandas]\n",
      "   --------------- ------------------------  6/16 [pandas]\n",
      "   --------------- ------------------------  6/16 [pandas]\n",
      "   --------------- ------------------------  6/16 [pandas]\n",
      "   --------------- ------------------------  6/16 [pandas]\n",
      "   --------------- ------------------------  6/16 [pandas]\n",
      "   --------------- ------------------------  6/16 [pandas]\n",
      "   --------------- ------------------------  6/16 [pandas]\n",
      "   --------------- ------------------------  6/16 [pandas]\n",
      "   --------------- ------------------------  6/16 [pandas]\n",
      "   --------------- ------------------------  6/16 [pandas]\n",
      "   --------------- ------------------------  6/16 [pandas]\n",
      "   --------------- ------------------------  6/16 [pandas]\n",
      "   --------------- ------------------------  6/16 [pandas]\n",
      "   --------------- ------------------------  6/16 [pandas]\n",
      "   --------------- ------------------------  6/16 [pandas]\n",
      "   --------------- ------------------------  6/16 [pandas]\n",
      "   --------------- ------------------------  6/16 [pandas]\n",
      "   --------------- ------------------------  6/16 [pandas]\n",
      "   --------------- ------------------------  6/16 [pandas]\n",
      "   --------------- ------------------------  6/16 [pandas]\n",
      "   --------------- ------------------------  6/16 [pandas]\n",
      "   --------------- ------------------------  6/16 [pandas]\n",
      "   --------------- ------------------------  6/16 [pandas]\n",
      "   --------------- ------------------------  6/16 [pandas]\n",
      "   --------------- ------------------------  6/16 [pandas]\n",
      "   --------------- ------------------------  6/16 [pandas]\n",
      "   --------------- ------------------------  6/16 [pandas]\n",
      "   --------------- ------------------------  6/16 [pandas]\n",
      "   --------------- ------------------------  6/16 [pandas]\n",
      "   --------------- ------------------------  6/16 [pandas]\n",
      "   --------------- ------------------------  6/16 [pandas]\n",
      "   --------------- ------------------------  6/16 [pandas]\n",
      "   --------------- ------------------------  6/16 [pandas]\n",
      "   --------------- ------------------------  6/16 [pandas]\n",
      "   --------------- ------------------------  6/16 [pandas]\n",
      "   --------------- ------------------------  6/16 [pandas]\n",
      "   --------------- ------------------------  6/16 [pandas]\n",
      "   --------------- ------------------------  6/16 [pandas]\n",
      "   --------------- ------------------------  6/16 [pandas]\n",
      "   --------------- ------------------------  6/16 [pandas]\n",
      "   --------------- ------------------------  6/16 [pandas]\n",
      "   --------------- ------------------------  6/16 [pandas]\n",
      "   --------------- ------------------------  6/16 [pandas]\n",
      "   --------------- ------------------------  6/16 [pandas]\n",
      "   --------------- ------------------------  6/16 [pandas]\n",
      "   --------------- ------------------------  6/16 [pandas]\n",
      "   --------------- ------------------------  6/16 [pandas]\n",
      "   --------------- ------------------------  6/16 [pandas]\n",
      "   --------------- ------------------------  6/16 [pandas]\n",
      "   --------------- ------------------------  6/16 [pandas]\n",
      "   --------------- ------------------------  6/16 [pandas]\n",
      "   --------------- ------------------------  6/16 [pandas]\n",
      "   --------------- ------------------------  6/16 [pandas]\n",
      "   --------------- ------------------------  6/16 [pandas]\n",
      "   --------------- ------------------------  6/16 [pandas]\n",
      "   --------------- ------------------------  6/16 [pandas]\n",
      "   --------------- ------------------------  6/16 [pandas]\n",
      "   --------------- ------------------------  6/16 [pandas]\n",
      "   --------------- ------------------------  6/16 [pandas]\n",
      "   --------------- ------------------------  6/16 [pandas]\n",
      "   --------------- ------------------------  6/16 [pandas]\n",
      "   --------------- ------------------------  6/16 [pandas]\n",
      "   --------------- ------------------------  6/16 [pandas]\n",
      "   --------------- ------------------------  6/16 [pandas]\n",
      "   --------------- ------------------------  6/16 [pandas]\n",
      "   --------------- ------------------------  6/16 [pandas]\n",
      "   --------------- ------------------------  6/16 [pandas]\n",
      "   --------------- ------------------------  6/16 [pandas]\n",
      "   --------------- ------------------------  6/16 [pandas]\n",
      "   --------------- ------------------------  6/16 [pandas]\n",
      "   --------------- ------------------------  6/16 [pandas]\n",
      "   --------------- ------------------------  6/16 [pandas]\n",
      "   --------------- ------------------------  6/16 [pandas]\n",
      "   --------------- ------------------------  6/16 [pandas]\n",
      "   --------------- ------------------------  6/16 [pandas]\n",
      "   --------------- ------------------------  6/16 [pandas]\n",
      "   --------------- ------------------------  6/16 [pandas]\n",
      "   --------------- ------------------------  6/16 [pandas]\n",
      "   --------------- ------------------------  6/16 [pandas]\n",
      "   --------------- ------------------------  6/16 [pandas]\n",
      "   --------------- ------------------------  6/16 [pandas]\n",
      "   --------------- ------------------------  6/16 [pandas]\n",
      "   --------------- ------------------------  6/16 [pandas]\n",
      "   --------------- ------------------------  6/16 [pandas]\n",
      "   --------------- ------------------------  6/16 [pandas]\n",
      "   --------------- ------------------------  6/16 [pandas]\n",
      "   --------------- ------------------------  6/16 [pandas]\n",
      "   --------------- ------------------------  6/16 [pandas]\n",
      "   --------------- ------------------------  6/16 [pandas]\n",
      "   --------------- ------------------------  6/16 [pandas]\n",
      "   --------------- ------------------------  6/16 [pandas]\n",
      "   --------------- ------------------------  6/16 [pandas]\n",
      "   --------------- ------------------------  6/16 [pandas]\n",
      "   --------------- ------------------------  6/16 [pandas]\n",
      "   --------------- ------------------------  6/16 [pandas]\n",
      "   --------------- ------------------------  6/16 [pandas]\n",
      "   --------------- ------------------------  6/16 [pandas]\n",
      "   --------------- ------------------------  6/16 [pandas]\n",
      "   --------------- ------------------------  6/16 [pandas]\n",
      "   --------------- ------------------------  6/16 [pandas]\n",
      "   --------------- ------------------------  6/16 [pandas]\n",
      "   --------------- ------------------------  6/16 [pandas]\n",
      "   --------------- ------------------------  6/16 [pandas]\n",
      "   --------------- ------------------------  6/16 [pandas]\n",
      "   --------------- ------------------------  6/16 [pandas]\n",
      "   --------------- ------------------------  6/16 [pandas]\n",
      "   --------------- ------------------------  6/16 [pandas]\n",
      "   --------------- ------------------------  6/16 [pandas]\n",
      "   --------------- ------------------------  6/16 [pandas]\n",
      "   --------------- ------------------------  6/16 [pandas]\n",
      "   --------------- ------------------------  6/16 [pandas]\n",
      "   --------------- ------------------------  6/16 [pandas]\n",
      "   --------------- ------------------------  6/16 [pandas]\n",
      "   --------------- ------------------------  6/16 [pandas]\n",
      "   --------------- ------------------------  6/16 [pandas]\n",
      "   --------------- ------------------------  6/16 [pandas]\n",
      "   --------------- ------------------------  6/16 [pandas]\n",
      "   --------------- ------------------------  6/16 [pandas]\n",
      "   --------------- ------------------------  6/16 [pandas]\n",
      "   --------------- ------------------------  6/16 [pandas]\n",
      "   --------------- ------------------------  6/16 [pandas]\n",
      "   --------------- ------------------------  6/16 [pandas]\n",
      "   --------------- ------------------------  6/16 [pandas]\n",
      "   --------------- ------------------------  6/16 [pandas]\n",
      "   --------------- ------------------------  6/16 [pandas]\n",
      "   --------------- ------------------------  6/16 [pandas]\n",
      "   --------------- ------------------------  6/16 [pandas]\n",
      "   --------------- ------------------------  6/16 [pandas]\n",
      "   --------------- ------------------------  6/16 [pandas]\n",
      "   --------------- ------------------------  6/16 [pandas]\n",
      "   --------------- ------------------------  6/16 [pandas]\n",
      "   --------------- ------------------------  6/16 [pandas]\n",
      "   --------------- ------------------------  6/16 [pandas]\n",
      "   --------------- ------------------------  6/16 [pandas]\n",
      "   --------------- ------------------------  6/16 [pandas]\n",
      "   --------------- ------------------------  6/16 [pandas]\n",
      "   --------------- ------------------------  6/16 [pandas]\n",
      "   --------------- ------------------------  6/16 [pandas]\n",
      "   --------------- ------------------------  6/16 [pandas]\n",
      "   --------------- ------------------------  6/16 [pandas]\n",
      "   --------------- ------------------------  6/16 [pandas]\n",
      "   --------------- ------------------------  6/16 [pandas]\n",
      "   --------------- ------------------------  6/16 [pandas]\n",
      "   --------------- ------------------------  6/16 [pandas]\n",
      "   --------------- ------------------------  6/16 [pandas]\n",
      "   --------------- ------------------------  6/16 [pandas]\n",
      "   --------------- ------------------------  6/16 [pandas]\n",
      "   --------------- ------------------------  6/16 [pandas]\n",
      "   --------------- ------------------------  6/16 [pandas]\n",
      "   --------------- ------------------------  6/16 [pandas]\n",
      "   --------------- ------------------------  6/16 [pandas]\n",
      "   --------------- ------------------------  6/16 [pandas]\n",
      "   --------------- ------------------------  6/16 [pandas]\n",
      "   --------------- ------------------------  6/16 [pandas]\n",
      "   --------------- ------------------------  6/16 [pandas]\n",
      "   --------------- ------------------------  6/16 [pandas]\n",
      "   --------------- ------------------------  6/16 [pandas]\n",
      "   --------------- ------------------------  6/16 [pandas]\n",
      "   --------------- ------------------------  6/16 [pandas]\n",
      "   --------------- ------------------------  6/16 [pandas]\n",
      "   --------------- ------------------------  6/16 [pandas]\n",
      "   --------------- ------------------------  6/16 [pandas]\n",
      "   --------------- ------------------------  6/16 [pandas]\n",
      "   --------------- ------------------------  6/16 [pandas]\n",
      "   --------------- ------------------------  6/16 [pandas]\n",
      "   --------------- ------------------------  6/16 [pandas]\n",
      "   --------------- ------------------------  6/16 [pandas]\n",
      "   --------------- ------------------------  6/16 [pandas]\n",
      "   --------------- ------------------------  6/16 [pandas]\n",
      "   --------------- ------------------------  6/16 [pandas]\n",
      "   --------------- ------------------------  6/16 [pandas]\n",
      "   --------------- ------------------------  6/16 [pandas]\n",
      "   --------------- ------------------------  6/16 [pandas]\n",
      "   --------------- ------------------------  6/16 [pandas]\n",
      "   --------------- ------------------------  6/16 [pandas]\n",
      "   --------------- ------------------------  6/16 [pandas]\n",
      "   --------------- ------------------------  6/16 [pandas]\n",
      "   --------------- ------------------------  6/16 [pandas]\n",
      "   --------------- ------------------------  6/16 [pandas]\n",
      "   --------------- ------------------------  6/16 [pandas]\n",
      "   --------------- ------------------------  6/16 [pandas]\n",
      "   --------------- ------------------------  6/16 [pandas]\n",
      "   --------------- ------------------------  6/16 [pandas]\n",
      "   --------------- ------------------------  6/16 [pandas]\n",
      "   --------------- ------------------------  6/16 [pandas]\n",
      "   --------------- ------------------------  6/16 [pandas]\n",
      "   --------------- ------------------------  6/16 [pandas]\n",
      "   --------------- ------------------------  6/16 [pandas]\n",
      "   --------------- ------------------------  6/16 [pandas]\n",
      "   --------------- ------------------------  6/16 [pandas]\n",
      "   --------------- ------------------------  6/16 [pandas]\n",
      "   --------------- ------------------------  6/16 [pandas]\n",
      "   --------------- ------------------------  6/16 [pandas]\n",
      "   --------------- ------------------------  6/16 [pandas]\n",
      "   --------------- ------------------------  6/16 [pandas]\n",
      "   --------------- ------------------------  6/16 [pandas]\n",
      "   --------------- ------------------------  6/16 [pandas]\n",
      "   --------------- ------------------------  6/16 [pandas]\n",
      "   --------------- ------------------------  6/16 [pandas]\n",
      "   --------------- ------------------------  6/16 [pandas]\n",
      "   --------------- ------------------------  6/16 [pandas]\n",
      "   --------------- ------------------------  6/16 [pandas]\n",
      "   --------------- ------------------------  6/16 [pandas]\n",
      "   --------------- ------------------------  6/16 [pandas]\n",
      "   --------------- ------------------------  6/16 [pandas]\n",
      "   --------------- ------------------------  6/16 [pandas]\n",
      "   --------------- ------------------------  6/16 [pandas]\n",
      "   --------------- ------------------------  6/16 [pandas]\n",
      "   --------------- ------------------------  6/16 [pandas]\n",
      "   --------------- ------------------------  6/16 [pandas]\n",
      "   --------------- ------------------------  6/16 [pandas]\n",
      "   --------------- ------------------------  6/16 [pandas]\n",
      "   --------------- ------------------------  6/16 [pandas]\n",
      "   --------------- ------------------------  6/16 [pandas]\n",
      "   ----------------- ----------------------  7/16 [numba]\n",
      "   ----------------- ----------------------  7/16 [numba]\n",
      "   ----------------- ----------------------  7/16 [numba]\n",
      "   ----------------- ----------------------  7/16 [numba]\n",
      "   ----------------- ----------------------  7/16 [numba]\n",
      "   ----------------- ----------------------  7/16 [numba]\n",
      "   ----------------- ----------------------  7/16 [numba]\n",
      "   ----------------- ----------------------  7/16 [numba]\n",
      "   ----------------- ----------------------  7/16 [numba]\n",
      "   ----------------- ----------------------  7/16 [numba]\n",
      "   ----------------- ----------------------  7/16 [numba]\n",
      "   ----------------- ----------------------  7/16 [numba]\n",
      "   ----------------- ----------------------  7/16 [numba]\n",
      "   ----------------- ----------------------  7/16 [numba]\n",
      "   ----------------- ----------------------  7/16 [numba]\n",
      "   ----------------- ----------------------  7/16 [numba]\n",
      "   ----------------- ----------------------  7/16 [numba]\n",
      "   ----------------- ----------------------  7/16 [numba]\n",
      "   ----------------- ----------------------  7/16 [numba]\n",
      "   ----------------- ----------------------  7/16 [numba]\n",
      "   ----------------- ----------------------  7/16 [numba]\n",
      "   ----------------- ----------------------  7/16 [numba]\n",
      "   ----------------- ----------------------  7/16 [numba]\n",
      "   ----------------- ----------------------  7/16 [numba]\n",
      "   ----------------- ----------------------  7/16 [numba]\n",
      "   ----------------- ----------------------  7/16 [numba]\n",
      "   ----------------- ----------------------  7/16 [numba]\n",
      "   ----------------- ----------------------  7/16 [numba]\n",
      "   ----------------- ----------------------  7/16 [numba]\n",
      "   ----------------- ----------------------  7/16 [numba]\n",
      "   ----------------- ----------------------  7/16 [numba]\n",
      "   ----------------- ----------------------  7/16 [numba]\n",
      "   ----------------- ----------------------  7/16 [numba]\n",
      "   ----------------- ----------------------  7/16 [numba]\n",
      "   ----------------- ----------------------  7/16 [numba]\n",
      "   ----------------- ----------------------  7/16 [numba]\n",
      "   ----------------- ----------------------  7/16 [numba]\n",
      "   ----------------- ----------------------  7/16 [numba]\n",
      "   ----------------- ----------------------  7/16 [numba]\n",
      "   ----------------- ----------------------  7/16 [numba]\n",
      "   ----------------- ----------------------  7/16 [numba]\n",
      "   ----------------- ----------------------  7/16 [numba]\n",
      "   ----------------- ----------------------  7/16 [numba]\n",
      "   ----------------- ----------------------  7/16 [numba]\n",
      "   ----------------- ----------------------  7/16 [numba]\n",
      "   ----------------- ----------------------  7/16 [numba]\n",
      "   ----------------- ----------------------  7/16 [numba]\n",
      "   ----------------- ----------------------  7/16 [numba]\n",
      "   ----------------- ----------------------  7/16 [numba]\n",
      "   ----------------- ----------------------  7/16 [numba]\n",
      "   ----------------- ----------------------  7/16 [numba]\n",
      "   ----------------- ----------------------  7/16 [numba]\n",
      "   ----------------- ----------------------  7/16 [numba]\n",
      "   ----------------- ----------------------  7/16 [numba]\n",
      "   ----------------- ----------------------  7/16 [numba]\n",
      "   ----------------- ----------------------  7/16 [numba]\n",
      "   ----------------- ----------------------  7/16 [numba]\n",
      "   ----------------- ----------------------  7/16 [numba]\n",
      "   ----------------- ----------------------  7/16 [numba]\n",
      "   ----------------- ----------------------  7/16 [numba]\n",
      "   ----------------- ----------------------  7/16 [numba]\n",
      "   ----------------- ----------------------  7/16 [numba]\n",
      "   ----------------- ----------------------  7/16 [numba]\n",
      "   ----------------- ----------------------  7/16 [numba]\n",
      "   ----------------- ----------------------  7/16 [numba]\n",
      "   ----------------- ----------------------  7/16 [numba]\n",
      "   ----------------- ----------------------  7/16 [numba]\n",
      "   ----------------- ----------------------  7/16 [numba]\n",
      "   ----------------- ----------------------  7/16 [numba]\n",
      "   ----------------- ----------------------  7/16 [numba]\n",
      "   ----------------- ----------------------  7/16 [numba]\n",
      "   ----------------- ----------------------  7/16 [numba]\n",
      "   ----------------- ----------------------  7/16 [numba]\n",
      "   ----------------- ----------------------  7/16 [numba]\n",
      "   ----------------- ----------------------  7/16 [numba]\n",
      "   ----------------- ----------------------  7/16 [numba]\n",
      "   ----------------- ----------------------  7/16 [numba]\n",
      "   ----------------- ----------------------  7/16 [numba]\n",
      "   ----------------- ----------------------  7/16 [numba]\n",
      "   ----------------- ----------------------  7/16 [numba]\n",
      "   ----------------- ----------------------  7/16 [numba]\n",
      "   ----------------- ----------------------  7/16 [numba]\n",
      "   ----------------- ----------------------  7/16 [numba]\n",
      "   ----------------- ----------------------  7/16 [numba]\n",
      "   ----------------- ----------------------  7/16 [numba]\n",
      "   ----------------- ----------------------  7/16 [numba]\n",
      "   ----------------- ----------------------  7/16 [numba]\n",
      "   ----------------- ----------------------  7/16 [numba]\n",
      "   ----------------- ----------------------  7/16 [numba]\n",
      "   ----------------- ----------------------  7/16 [numba]\n",
      "   ----------------- ----------------------  7/16 [numba]\n",
      "   ----------------- ----------------------  7/16 [numba]\n",
      "   ----------------- ----------------------  7/16 [numba]\n",
      "   ----------------- ----------------------  7/16 [numba]\n",
      "   ----------------- ----------------------  7/16 [numba]\n",
      "   ----------------- ----------------------  7/16 [numba]\n",
      "   ----------------- ----------------------  7/16 [numba]\n",
      "   ----------------- ----------------------  7/16 [numba]\n",
      "   ----------------- ----------------------  7/16 [numba]\n",
      "   ----------------- ----------------------  7/16 [numba]\n",
      "   ----------------- ----------------------  7/16 [numba]\n",
      "   ----------------- ----------------------  7/16 [numba]\n",
      "   ----------------- ----------------------  7/16 [numba]\n",
      "   ----------------- ----------------------  7/16 [numba]\n",
      "   ----------------- ----------------------  7/16 [numba]\n",
      "   ----------------- ----------------------  7/16 [numba]\n",
      "   ----------------- ----------------------  7/16 [numba]\n",
      "   ----------------- ----------------------  7/16 [numba]\n",
      "   ----------------- ----------------------  7/16 [numba]\n",
      "   ----------------- ----------------------  7/16 [numba]\n",
      "   ----------------- ----------------------  7/16 [numba]\n",
      "   ----------------- ----------------------  7/16 [numba]\n",
      "   ----------------- ----------------------  7/16 [numba]\n",
      "   ----------------- ----------------------  7/16 [numba]\n",
      "   ----------------- ----------------------  7/16 [numba]\n",
      "   ----------------- ----------------------  7/16 [numba]\n",
      "   ----------------- ----------------------  7/16 [numba]\n",
      "   ----------------- ----------------------  7/16 [numba]\n",
      "   ----------------- ----------------------  7/16 [numba]\n",
      "   ----------------- ----------------------  7/16 [numba]\n",
      "   ----------------- ----------------------  7/16 [numba]\n",
      "   ----------------- ----------------------  7/16 [numba]\n",
      "   ----------------- ----------------------  7/16 [numba]\n",
      "   ----------------- ----------------------  7/16 [numba]\n",
      "   ----------------- ----------------------  7/16 [numba]\n",
      "   ----------------- ----------------------  7/16 [numba]\n",
      "   ----------------- ----------------------  7/16 [numba]\n",
      "   ----------------- ----------------------  7/16 [numba]\n",
      "   ----------------- ----------------------  7/16 [numba]\n",
      "   ----------------- ----------------------  7/16 [numba]\n",
      "   ----------------- ----------------------  7/16 [numba]\n",
      "   ----------------- ----------------------  7/16 [numba]\n",
      "   ----------------- ----------------------  7/16 [numba]\n",
      "   ----------------- ----------------------  7/16 [numba]\n",
      "   -------------------- -------------------  8/16 [multiprocess]\n",
      "   -------------------- -------------------  8/16 [multiprocess]\n",
      "   -------------------- -------------------  8/16 [multiprocess]\n",
      "   -------------------- -------------------  8/16 [multiprocess]\n",
      "   -------------------- -------------------  8/16 [multiprocess]\n",
      "   -------------------- -------------------  8/16 [multiprocess]\n",
      "   -------------------- -------------------  8/16 [multiprocess]\n",
      "   -------------------- -------------------  8/16 [multiprocess]\n",
      "   ---------------------- -----------------  9/16 [botocore]\n",
      "   ---------------------- -----------------  9/16 [botocore]\n",
      "   ---------------------- -----------------  9/16 [botocore]\n",
      "   ---------------------- -----------------  9/16 [botocore]\n",
      "   ---------------------- -----------------  9/16 [botocore]\n",
      "   ---------------------- -----------------  9/16 [botocore]\n",
      "   ---------------------- -----------------  9/16 [botocore]\n",
      "   ---------------------- -----------------  9/16 [botocore]\n",
      "   ---------------------- -----------------  9/16 [botocore]\n",
      "   ---------------------- -----------------  9/16 [botocore]\n",
      "   ---------------------- -----------------  9/16 [botocore]\n",
      "   ---------------------- -----------------  9/16 [botocore]\n",
      "   ---------------------- -----------------  9/16 [botocore]\n",
      "   ---------------------- -----------------  9/16 [botocore]\n",
      "   ---------------------- -----------------  9/16 [botocore]\n",
      "   ---------------------- -----------------  9/16 [botocore]\n",
      "   ---------------------- -----------------  9/16 [botocore]\n",
      "   ---------------------- -----------------  9/16 [botocore]\n",
      "   ---------------------- -----------------  9/16 [botocore]\n",
      "   ---------------------- -----------------  9/16 [botocore]\n",
      "   ---------------------- -----------------  9/16 [botocore]\n",
      "   ---------------------- -----------------  9/16 [botocore]\n",
      "   ---------------------- -----------------  9/16 [botocore]\n",
      "   ---------------------- -----------------  9/16 [botocore]\n",
      "   ---------------------- -----------------  9/16 [botocore]\n",
      "   ---------------------- -----------------  9/16 [botocore]\n",
      "   ---------------------- -----------------  9/16 [botocore]\n",
      "   ---------------------- -----------------  9/16 [botocore]\n",
      "   ---------------------- -----------------  9/16 [botocore]\n",
      "   ---------------------- -----------------  9/16 [botocore]\n",
      "   ---------------------- -----------------  9/16 [botocore]\n",
      "   ---------------------- -----------------  9/16 [botocore]\n",
      "   ---------------------- -----------------  9/16 [botocore]\n",
      "   ---------------------- -----------------  9/16 [botocore]\n",
      "   ---------------------- -----------------  9/16 [botocore]\n",
      "   ---------------------- -----------------  9/16 [botocore]\n",
      "   ---------------------- -----------------  9/16 [botocore]\n",
      "   ---------------------- -----------------  9/16 [botocore]\n",
      "   ---------------------- -----------------  9/16 [botocore]\n",
      "   ---------------------- -----------------  9/16 [botocore]\n",
      "   ---------------------- -----------------  9/16 [botocore]\n",
      "   ---------------------- -----------------  9/16 [botocore]\n",
      "   ---------------------- -----------------  9/16 [botocore]\n",
      "   ---------------------- -----------------  9/16 [botocore]\n",
      "   ---------------------- -----------------  9/16 [botocore]\n",
      "   ---------------------- -----------------  9/16 [botocore]\n",
      "   ---------------------- -----------------  9/16 [botocore]\n",
      "   ---------------------- -----------------  9/16 [botocore]\n",
      "   ---------------------- -----------------  9/16 [botocore]\n",
      "   ---------------------- -----------------  9/16 [botocore]\n",
      "   ---------------------- -----------------  9/16 [botocore]\n",
      "   ---------------------- -----------------  9/16 [botocore]\n",
      "   ---------------------- -----------------  9/16 [botocore]\n",
      "   ---------------------- -----------------  9/16 [botocore]\n",
      "   ---------------------- -----------------  9/16 [botocore]\n",
      "   ---------------------- -----------------  9/16 [botocore]\n",
      "   ---------------------- -----------------  9/16 [botocore]\n",
      "   ---------------------- -----------------  9/16 [botocore]\n",
      "   ---------------------- -----------------  9/16 [botocore]\n",
      "   ---------------------- -----------------  9/16 [botocore]\n",
      "   ---------------------- -----------------  9/16 [botocore]\n",
      "   ---------------------- -----------------  9/16 [botocore]\n",
      "   ---------------------- -----------------  9/16 [botocore]\n",
      "   ---------------------- -----------------  9/16 [botocore]\n",
      "   ---------------------- -----------------  9/16 [botocore]\n",
      "   ---------------------- -----------------  9/16 [botocore]\n",
      "   ---------------------- -----------------  9/16 [botocore]\n",
      "   ---------------------- -----------------  9/16 [botocore]\n",
      "   ---------------------- -----------------  9/16 [botocore]\n",
      "   ---------------------- -----------------  9/16 [botocore]\n",
      "   ---------------------- -----------------  9/16 [botocore]\n",
      "   ---------------------- -----------------  9/16 [botocore]\n",
      "   ---------------------- -----------------  9/16 [botocore]\n",
      "   ---------------------- -----------------  9/16 [botocore]\n",
      "   ---------------------- -----------------  9/16 [botocore]\n",
      "   ---------------------- -----------------  9/16 [botocore]\n",
      "   ---------------------- -----------------  9/16 [botocore]\n",
      "   ---------------------- -----------------  9/16 [botocore]\n",
      "   ---------------------- -----------------  9/16 [botocore]\n",
      "   ---------------------- -----------------  9/16 [botocore]\n",
      "   ---------------------- -----------------  9/16 [botocore]\n",
      "   ---------------------- -----------------  9/16 [botocore]\n",
      "   ---------------------- -----------------  9/16 [botocore]\n",
      "   ---------------------- -----------------  9/16 [botocore]\n",
      "   ---------------------- -----------------  9/16 [botocore]\n",
      "   ---------------------- -----------------  9/16 [botocore]\n",
      "   ---------------------- -----------------  9/16 [botocore]\n",
      "   ---------------------- -----------------  9/16 [botocore]\n",
      "   ---------------------- -----------------  9/16 [botocore]\n",
      "   ---------------------- -----------------  9/16 [botocore]\n",
      "   ---------------------- -----------------  9/16 [botocore]\n",
      "   ---------------------- -----------------  9/16 [botocore]\n",
      "   ---------------------- -----------------  9/16 [botocore]\n",
      "   ------------------------- -------------- 10/16 [s3transfer]\n",
      "   ------------------------- -------------- 10/16 [s3transfer]\n",
      "   ------------------------- -------------- 10/16 [s3transfer]\n",
      "   ------------------------- -------------- 10/16 [s3transfer]\n",
      "   --------------------------- ------------ 11/16 [pynndescent]\n",
      "   --------------------------- ------------ 11/16 [pynndescent]\n",
      "   --------------------------- ------------ 11/16 [pynndescent]\n",
      "   ------------------------------ --------- 12/16 [umap-learn]\n",
      "   ------------------------------ --------- 12/16 [umap-learn]\n",
      "   ------------------------------ --------- 12/16 [umap-learn]\n",
      "   ------------------------------ --------- 12/16 [umap-learn]\n",
      "   -------------------------------- ------- 13/16 [datasets]\n",
      "   -------------------------------- ------- 13/16 [datasets]\n",
      "   -------------------------------- ------- 13/16 [datasets]\n",
      "   -------------------------------- ------- 13/16 [datasets]\n",
      "   -------------------------------- ------- 13/16 [datasets]\n",
      "   -------------------------------- ------- 13/16 [datasets]\n",
      "   -------------------------------- ------- 13/16 [datasets]\n",
      "   -------------------------------- ------- 13/16 [datasets]\n",
      "   -------------------------------- ------- 13/16 [datasets]\n",
      "   -------------------------------- ------- 13/16 [datasets]\n",
      "   -------------------------------- ------- 13/16 [datasets]\n",
      "   -------------------------------- ------- 13/16 [datasets]\n",
      "   -------------------------------- ------- 13/16 [datasets]\n",
      "   -------------------------------- ------- 13/16 [datasets]\n",
      "   -------------------------------- ------- 13/16 [datasets]\n",
      "   -------------------------------- ------- 13/16 [datasets]\n",
      "   -------------------------------- ------- 13/16 [datasets]\n",
      "   -------------------------------- ------- 13/16 [datasets]\n",
      "   -------------------------------- ------- 13/16 [datasets]\n",
      "   -------------------------------- ------- 13/16 [datasets]\n",
      "   -------------------------------- ------- 13/16 [datasets]\n",
      "   -------------------------------- ------- 13/16 [datasets]\n",
      "   -------------------------------- ------- 13/16 [datasets]\n",
      "   ----------------------------------- ---- 14/16 [boto3]\n",
      "   ----------------------------------- ---- 14/16 [boto3]\n",
      "   ----------------------------------- ---- 14/16 [boto3]\n",
      "   ----------------------------------- ---- 14/16 [boto3]\n",
      "   ----------------------------------- ---- 14/16 [boto3]\n",
      "   ----------------------------------- ---- 14/16 [boto3]\n",
      "   ----------------------------------- ---- 14/16 [boto3]\n",
      "   ----------------------------------- ---- 14/16 [boto3]\n",
      "   ------------------------------------- -- 15/16 [bertviz]\n",
      "   ------------------------------------- -- 15/16 [bertviz]\n",
      "   ------------------------------------- -- 15/16 [bertviz]\n",
      "   ------------------------------------- -- 15/16 [bertviz]\n",
      "   ------------------------------------- -- 15/16 [bertviz]\n",
      "   ------------------------------------- -- 15/16 [bertviz]\n",
      "   ---------------------------------------- 16/16 [bertviz]\n",
      "\n",
      "Successfully installed bertviz-1.4.1 boto3-1.40.59 botocore-1.40.59 datasets-4.3.0 dill-0.4.0 jmespath-1.0.1 llvmlite-0.45.1 multiprocess-0.70.16 numba-0.62.1 pandas-2.3.3 pyarrow-22.0.0 pynndescent-0.5.13 requests-2.32.5 s3transfer-0.14.0 sentencepiece-0.2.1 umap-learn-0.5.9.post2\n"
     ]
    }
   ],
   "source": [
    "!{sys.executable} -m pip install transformers datasets bertviz umap-learn --upgrade numpy pandas "
   ]
  },
  {
   "cell_type": "code",
   "execution_count": 14,
   "id": "83d4ae1e",
   "metadata": {},
   "outputs": [],
   "source": [
    "from datasets import load_dataset\n",
    "import pandas as pd\n",
    "import numpy as np\n",
    "import transformers\n",
    "import bertviz\n",
    "import umap\n"
   ]
  },
  {
   "cell_type": "code",
   "execution_count": 15,
   "id": "297bbcca",
   "metadata": {},
   "outputs": [
    {
     "data": {
      "application/vnd.jupyter.widget-view+json": {
       "model_id": "3b5816b167c74c1aa2657ab23252032e",
       "version_major": 2,
       "version_minor": 0
      },
      "text/plain": [
       "README.md: 0.00B [00:00, ?B/s]"
      ]
     },
     "metadata": {},
     "output_type": "display_data"
    },
    {
     "name": "stderr",
     "output_type": "stream",
     "text": [
      "C:\\Users\\yasha\\AppData\\Roaming\\Python\\Python310\\site-packages\\huggingface_hub\\file_download.py:143: UserWarning: `huggingface_hub` cache-system uses symlinks by default to efficiently store duplicated files but your machine does not support them in C:\\Users\\yasha\\.cache\\huggingface\\hub\\datasets--dair-ai--emotion. Caching files will still work but in a degraded version that might require more space on your disk. This warning can be disabled by setting the `HF_HUB_DISABLE_SYMLINKS_WARNING` environment variable. For more details, see https://huggingface.co/docs/huggingface_hub/how-to-cache#limitations.\n",
      "To support symlinks on Windows, you either need to activate Developer Mode or to run Python as an administrator. In order to activate developer mode, see this article: https://docs.microsoft.com/en-us/windows/apps/get-started/enable-your-device-for-development\n",
      "  warnings.warn(message)\n",
      "Xet Storage is enabled for this repo, but the 'hf_xet' package is not installed. Falling back to regular HTTP download. For better performance, install the package with: `pip install huggingface_hub[hf_xet]` or `pip install hf_xet`\n"
     ]
    },
    {
     "data": {
      "application/vnd.jupyter.widget-view+json": {
       "model_id": "d5bee81d3d7b4035962f6edc521c91e0",
       "version_major": 2,
       "version_minor": 0
      },
      "text/plain": [
       "train-00000-of-00001.parquet:   0%|          | 0.00/1.03M [00:00<?, ?B/s]"
      ]
     },
     "metadata": {},
     "output_type": "display_data"
    },
    {
     "name": "stderr",
     "output_type": "stream",
     "text": [
      "Xet Storage is enabled for this repo, but the 'hf_xet' package is not installed. Falling back to regular HTTP download. For better performance, install the package with: `pip install huggingface_hub[hf_xet]` or `pip install hf_xet`\n"
     ]
    },
    {
     "data": {
      "application/vnd.jupyter.widget-view+json": {
       "model_id": "d312db71042f4b2fbbefd8603cf71e44",
       "version_major": 2,
       "version_minor": 0
      },
      "text/plain": [
       "validation-00000-of-00001.parquet:   0%|          | 0.00/127k [00:00<?, ?B/s]"
      ]
     },
     "metadata": {},
     "output_type": "display_data"
    },
    {
     "name": "stderr",
     "output_type": "stream",
     "text": [
      "Xet Storage is enabled for this repo, but the 'hf_xet' package is not installed. Falling back to regular HTTP download. For better performance, install the package with: `pip install huggingface_hub[hf_xet]` or `pip install hf_xet`\n"
     ]
    },
    {
     "data": {
      "application/vnd.jupyter.widget-view+json": {
       "model_id": "0ddfe58e73fc45018e4e2010ec929a2b",
       "version_major": 2,
       "version_minor": 0
      },
      "text/plain": [
       "test-00000-of-00001.parquet:   0%|          | 0.00/129k [00:00<?, ?B/s]"
      ]
     },
     "metadata": {},
     "output_type": "display_data"
    },
    {
     "data": {
      "application/vnd.jupyter.widget-view+json": {
       "model_id": "36857685b92a46cfb60202a6d3c85d95",
       "version_major": 2,
       "version_minor": 0
      },
      "text/plain": [
       "Generating train split:   0%|          | 0/16000 [00:00<?, ? examples/s]"
      ]
     },
     "metadata": {},
     "output_type": "display_data"
    },
    {
     "data": {
      "application/vnd.jupyter.widget-view+json": {
       "model_id": "035982f2e3854b40b37665c3d6027ba7",
       "version_major": 2,
       "version_minor": 0
      },
      "text/plain": [
       "Generating validation split:   0%|          | 0/2000 [00:00<?, ? examples/s]"
      ]
     },
     "metadata": {},
     "output_type": "display_data"
    },
    {
     "data": {
      "application/vnd.jupyter.widget-view+json": {
       "model_id": "82b4106517d74295ad362103cf197d56",
       "version_major": 2,
       "version_minor": 0
      },
      "text/plain": [
       "Generating test split:   0%|          | 0/2000 [00:00<?, ? examples/s]"
      ]
     },
     "metadata": {},
     "output_type": "display_data"
    }
   ],
   "source": [
    "emotion = load_dataset('dair-ai/emotion')"
   ]
  },
  {
   "cell_type": "code",
   "execution_count": 16,
   "id": "5c73921c",
   "metadata": {},
   "outputs": [
    {
     "name": "stdout",
     "output_type": "stream",
     "text": [
      "DatasetDict({\n",
      "    train: Dataset({\n",
      "        features: ['text', 'label'],\n",
      "        num_rows: 16000\n",
      "    })\n",
      "    validation: Dataset({\n",
      "        features: ['text', 'label'],\n",
      "        num_rows: 2000\n",
      "    })\n",
      "    test: Dataset({\n",
      "        features: ['text', 'label'],\n",
      "        num_rows: 2000\n",
      "    })\n",
      "})\n"
     ]
    }
   ],
   "source": [
    "print(emotion)"
   ]
  },
  {
   "cell_type": "code",
   "execution_count": 17,
   "id": "b3c4589d",
   "metadata": {},
   "outputs": [],
   "source": [
    "emotion.set_format('pandas')"
   ]
  },
  {
   "cell_type": "code",
   "execution_count": 20,
   "id": "3c3bcc5c",
   "metadata": {},
   "outputs": [
    {
     "name": "stdout",
     "output_type": "stream",
     "text": [
      "                                                    text  label\n",
      "0                                i didnt feel humiliated      0\n",
      "1      i can go from feeling so hopeless to so damned...      0\n",
      "2       im grabbing a minute to post i feel greedy wrong      3\n",
      "3      i am ever feeling nostalgic about the fireplac...      2\n",
      "4                                   i am feeling grouchy      3\n",
      "...                                                  ...    ...\n",
      "15995  i just had a very brief time in the beanbag an...      0\n",
      "15996  i am now turning and i feel pathetic that i am...      0\n",
      "15997                     i feel strong and good overall      1\n",
      "15998  i feel like this was such a rude comment and i...      3\n",
      "15999  i know a lot but i feel so stupid because i ca...      0\n",
      "\n",
      "[16000 rows x 2 columns]\n"
     ]
    }
   ],
   "source": [
    "print(emotion['train'][:])"
   ]
  },
  {
   "cell_type": "code",
   "execution_count": 21,
   "id": "7d934a1a",
   "metadata": {},
   "outputs": [
    {
     "data": {
      "text/html": [
       "<div>\n",
       "<style scoped>\n",
       "    .dataframe tbody tr th:only-of-type {\n",
       "        vertical-align: middle;\n",
       "    }\n",
       "\n",
       "    .dataframe tbody tr th {\n",
       "        vertical-align: top;\n",
       "    }\n",
       "\n",
       "    .dataframe thead th {\n",
       "        text-align: right;\n",
       "    }\n",
       "</style>\n",
       "<table border=\"1\" class=\"dataframe\">\n",
       "  <thead>\n",
       "    <tr style=\"text-align: right;\">\n",
       "      <th></th>\n",
       "      <th>text</th>\n",
       "      <th>label</th>\n",
       "    </tr>\n",
       "  </thead>\n",
       "  <tbody>\n",
       "    <tr>\n",
       "      <th>0</th>\n",
       "      <td>i didnt feel humiliated</td>\n",
       "      <td>0</td>\n",
       "    </tr>\n",
       "    <tr>\n",
       "      <th>1</th>\n",
       "      <td>i can go from feeling so hopeless to so damned...</td>\n",
       "      <td>0</td>\n",
       "    </tr>\n",
       "    <tr>\n",
       "      <th>2</th>\n",
       "      <td>im grabbing a minute to post i feel greedy wrong</td>\n",
       "      <td>3</td>\n",
       "    </tr>\n",
       "    <tr>\n",
       "      <th>3</th>\n",
       "      <td>i am ever feeling nostalgic about the fireplac...</td>\n",
       "      <td>2</td>\n",
       "    </tr>\n",
       "    <tr>\n",
       "      <th>4</th>\n",
       "      <td>i am feeling grouchy</td>\n",
       "      <td>3</td>\n",
       "    </tr>\n",
       "  </tbody>\n",
       "</table>\n",
       "</div>"
      ],
      "text/plain": [
       "                                                text  label\n",
       "0                            i didnt feel humiliated      0\n",
       "1  i can go from feeling so hopeless to so damned...      0\n",
       "2   im grabbing a minute to post i feel greedy wrong      3\n",
       "3  i am ever feeling nostalgic about the fireplac...      2\n",
       "4                               i am feeling grouchy      3"
      ]
     },
     "execution_count": 21,
     "metadata": {},
     "output_type": "execute_result"
    }
   ],
   "source": [
    "df = emotion['train'][:]\n",
    "df.head()"
   ]
  },
  {
   "cell_type": "code",
   "execution_count": 27,
   "id": "938e378c",
   "metadata": {},
   "outputs": [
    {
     "data": {
      "text/plain": [
       "['sadness', 'joy', 'love', 'anger', 'fear', 'surprise']"
      ]
     },
     "execution_count": 27,
     "metadata": {},
     "output_type": "execute_result"
    }
   ],
   "source": [
    "classes = emotion['train'].features['label'].names\n",
    "classes"
   ]
  },
  {
   "cell_type": "code",
   "execution_count": 28,
   "id": "58122d69",
   "metadata": {},
   "outputs": [],
   "source": [
    "df['label_name'] = df['label'].apply(lambda x:classes[x]) "
   ]
  },
  {
   "cell_type": "code",
   "execution_count": 29,
   "id": "ece1d2da",
   "metadata": {},
   "outputs": [
    {
     "data": {
      "text/html": [
       "<div>\n",
       "<style scoped>\n",
       "    .dataframe tbody tr th:only-of-type {\n",
       "        vertical-align: middle;\n",
       "    }\n",
       "\n",
       "    .dataframe tbody tr th {\n",
       "        vertical-align: top;\n",
       "    }\n",
       "\n",
       "    .dataframe thead th {\n",
       "        text-align: right;\n",
       "    }\n",
       "</style>\n",
       "<table border=\"1\" class=\"dataframe\">\n",
       "  <thead>\n",
       "    <tr style=\"text-align: right;\">\n",
       "      <th></th>\n",
       "      <th>text</th>\n",
       "      <th>label</th>\n",
       "      <th>label_name</th>\n",
       "    </tr>\n",
       "  </thead>\n",
       "  <tbody>\n",
       "    <tr>\n",
       "      <th>0</th>\n",
       "      <td>i didnt feel humiliated</td>\n",
       "      <td>0</td>\n",
       "      <td>sadness</td>\n",
       "    </tr>\n",
       "    <tr>\n",
       "      <th>1</th>\n",
       "      <td>i can go from feeling so hopeless to so damned...</td>\n",
       "      <td>0</td>\n",
       "      <td>sadness</td>\n",
       "    </tr>\n",
       "    <tr>\n",
       "      <th>2</th>\n",
       "      <td>im grabbing a minute to post i feel greedy wrong</td>\n",
       "      <td>3</td>\n",
       "      <td>anger</td>\n",
       "    </tr>\n",
       "    <tr>\n",
       "      <th>3</th>\n",
       "      <td>i am ever feeling nostalgic about the fireplac...</td>\n",
       "      <td>2</td>\n",
       "      <td>love</td>\n",
       "    </tr>\n",
       "    <tr>\n",
       "      <th>4</th>\n",
       "      <td>i am feeling grouchy</td>\n",
       "      <td>3</td>\n",
       "      <td>anger</td>\n",
       "    </tr>\n",
       "  </tbody>\n",
       "</table>\n",
       "</div>"
      ],
      "text/plain": [
       "                                                text  label label_name\n",
       "0                            i didnt feel humiliated      0    sadness\n",
       "1  i can go from feeling so hopeless to so damned...      0    sadness\n",
       "2   im grabbing a minute to post i feel greedy wrong      3      anger\n",
       "3  i am ever feeling nostalgic about the fireplac...      2       love\n",
       "4                               i am feeling grouchy      3      anger"
      ]
     },
     "execution_count": 29,
     "metadata": {},
     "output_type": "execute_result"
    }
   ],
   "source": [
    "df.head()"
   ]
  },
  {
   "cell_type": "markdown",
   "id": "2de77304",
   "metadata": {},
   "source": [
    "# Dataset Analysis"
   ]
  },
  {
   "cell_type": "code",
   "execution_count": 33,
   "id": "71e257cc",
   "metadata": {},
   "outputs": [
    {
     "name": "stdout",
     "output_type": "stream",
     "text": [
      "Collecting matplotlib\n",
      "  Downloading matplotlib-3.10.7-cp310-cp310-win_amd64.whl.metadata (11 kB)\n",
      "Collecting contourpy>=1.0.1 (from matplotlib)\n",
      "  Downloading contourpy-1.3.2-cp310-cp310-win_amd64.whl.metadata (5.5 kB)\n",
      "Collecting cycler>=0.10 (from matplotlib)\n",
      "  Using cached cycler-0.12.1-py3-none-any.whl.metadata (3.8 kB)\n",
      "Collecting fonttools>=4.22.0 (from matplotlib)\n",
      "  Downloading fonttools-4.60.1-cp310-cp310-win_amd64.whl.metadata (114 kB)\n",
      "Collecting kiwisolver>=1.3.1 (from matplotlib)\n",
      "  Downloading kiwisolver-1.4.9-cp310-cp310-win_amd64.whl.metadata (6.4 kB)\n",
      "Requirement already satisfied: numpy>=1.23 in c:\\users\\yasha\\anaconda3\\envs\\torch_cpu\\lib\\site-packages (from matplotlib) (2.2.6)\n",
      "Requirement already satisfied: packaging>=20.0 in c:\\users\\yasha\\appdata\\roaming\\python\\python310\\site-packages (from matplotlib) (25.0)\n",
      "Requirement already satisfied: pillow>=8 in c:\\users\\yasha\\appdata\\roaming\\python\\python310\\site-packages (from matplotlib) (10.0.0)\n",
      "Collecting pyparsing>=3 (from matplotlib)\n",
      "  Downloading pyparsing-3.2.5-py3-none-any.whl.metadata (5.0 kB)\n",
      "Requirement already satisfied: python-dateutil>=2.7 in c:\\users\\yasha\\appdata\\roaming\\python\\python310\\site-packages (from matplotlib) (2.8.2)\n",
      "Requirement already satisfied: six>=1.5 in c:\\users\\yasha\\appdata\\roaming\\python\\python310\\site-packages (from python-dateutil>=2.7->matplotlib) (1.16.0)\n",
      "Downloading matplotlib-3.10.7-cp310-cp310-win_amd64.whl (8.1 MB)\n",
      "   ---------------------------------------- 0.0/8.1 MB ? eta -:--:--\n",
      "   ------- -------------------------------- 1.6/8.1 MB 7.6 MB/s eta 0:00:01\n",
      "   ---------------- ----------------------- 3.4/8.1 MB 8.4 MB/s eta 0:00:01\n",
      "   --------------------------- ------------ 5.5/8.1 MB 8.8 MB/s eta 0:00:01\n",
      "   --------------------------------- ------ 6.8/8.1 MB 8.7 MB/s eta 0:00:01\n",
      "   ------------------------------------- -- 7.6/8.1 MB 7.3 MB/s eta 0:00:01\n",
      "   ---------------------------------------- 8.1/8.1 MB 6.4 MB/s eta 0:00:00\n",
      "Downloading contourpy-1.3.2-cp310-cp310-win_amd64.whl (221 kB)\n",
      "Using cached cycler-0.12.1-py3-none-any.whl (8.3 kB)\n",
      "Downloading fonttools-4.60.1-cp310-cp310-win_amd64.whl (2.3 MB)\n",
      "   ---------------------------------------- 0.0/2.3 MB ? eta -:--:--\n",
      "   ------------- -------------------------- 0.8/2.3 MB 4.2 MB/s eta 0:00:01\n",
      "   ----------------------- ---------------- 1.3/2.3 MB 3.7 MB/s eta 0:00:01\n",
      "   ------------------------------------ --- 2.1/2.3 MB 3.6 MB/s eta 0:00:01\n",
      "   ---------------------------------------- 2.3/2.3 MB 3.4 MB/s eta 0:00:00\n",
      "Downloading kiwisolver-1.4.9-cp310-cp310-win_amd64.whl (73 kB)\n",
      "Downloading pyparsing-3.2.5-py3-none-any.whl (113 kB)\n",
      "Installing collected packages: pyparsing, kiwisolver, fonttools, cycler, contourpy, matplotlib\n",
      "\n",
      "   ------------- -------------------------- 2/6 [fonttools]\n",
      "   ------------- -------------------------- 2/6 [fonttools]\n",
      "   ------------- -------------------------- 2/6 [fonttools]\n",
      "   ------------- -------------------------- 2/6 [fonttools]\n",
      "   ------------- -------------------------- 2/6 [fonttools]\n",
      "   ------------- -------------------------- 2/6 [fonttools]\n",
      "   ------------- -------------------------- 2/6 [fonttools]\n",
      "   ------------- -------------------------- 2/6 [fonttools]\n",
      "   ------------- -------------------------- 2/6 [fonttools]\n",
      "   ------------- -------------------------- 2/6 [fonttools]\n",
      "   ------------- -------------------------- 2/6 [fonttools]\n",
      "   ------------- -------------------------- 2/6 [fonttools]\n",
      "   ------------- -------------------------- 2/6 [fonttools]\n",
      "   ------------- -------------------------- 2/6 [fonttools]\n",
      "   ------------- -------------------------- 2/6 [fonttools]\n",
      "   ------------- -------------------------- 2/6 [fonttools]\n",
      "   ------------- -------------------------- 2/6 [fonttools]\n",
      "   ------------- -------------------------- 2/6 [fonttools]\n",
      "   ------------- -------------------------- 2/6 [fonttools]\n",
      "   ------------- -------------------------- 2/6 [fonttools]\n",
      "   ------------- -------------------------- 2/6 [fonttools]\n",
      "   ------------- -------------------------- 2/6 [fonttools]\n",
      "   ------------- -------------------------- 2/6 [fonttools]\n",
      "   ------------- -------------------------- 2/6 [fonttools]\n",
      "   ------------- -------------------------- 2/6 [fonttools]\n",
      "   ------------- -------------------------- 2/6 [fonttools]\n",
      "   ------------- -------------------------- 2/6 [fonttools]\n",
      "   ------------- -------------------------- 2/6 [fonttools]\n",
      "   ------------- -------------------------- 2/6 [fonttools]\n",
      "   ------------- -------------------------- 2/6 [fonttools]\n",
      "   ------------- -------------------------- 2/6 [fonttools]\n",
      "   ------------- -------------------------- 2/6 [fonttools]\n",
      "   ------------- -------------------------- 2/6 [fonttools]\n",
      "   -------------------------- ------------- 4/6 [contourpy]\n",
      "   -------------------------- ------------- 4/6 [contourpy]\n",
      "   -------------------------- ------------- 4/6 [contourpy]\n",
      "   --------------------------------- ------ 5/6 [matplotlib]\n",
      "   --------------------------------- ------ 5/6 [matplotlib]\n",
      "   --------------------------------- ------ 5/6 [matplotlib]\n",
      "   --------------------------------- ------ 5/6 [matplotlib]\n",
      "   --------------------------------- ------ 5/6 [matplotlib]\n",
      "   --------------------------------- ------ 5/6 [matplotlib]\n",
      "   --------------------------------- ------ 5/6 [matplotlib]\n",
      "   --------------------------------- ------ 5/6 [matplotlib]\n",
      "   --------------------------------- ------ 5/6 [matplotlib]\n",
      "   --------------------------------- ------ 5/6 [matplotlib]\n",
      "   --------------------------------- ------ 5/6 [matplotlib]\n",
      "   --------------------------------- ------ 5/6 [matplotlib]\n",
      "   --------------------------------- ------ 5/6 [matplotlib]\n",
      "   --------------------------------- ------ 5/6 [matplotlib]\n",
      "   --------------------------------- ------ 5/6 [matplotlib]\n",
      "   --------------------------------- ------ 5/6 [matplotlib]\n",
      "   --------------------------------- ------ 5/6 [matplotlib]\n",
      "   --------------------------------- ------ 5/6 [matplotlib]\n",
      "   --------------------------------- ------ 5/6 [matplotlib]\n",
      "   --------------------------------- ------ 5/6 [matplotlib]\n",
      "   --------------------------------- ------ 5/6 [matplotlib]\n",
      "   --------------------------------- ------ 5/6 [matplotlib]\n",
      "   --------------------------------- ------ 5/6 [matplotlib]\n",
      "   --------------------------------- ------ 5/6 [matplotlib]\n",
      "   --------------------------------- ------ 5/6 [matplotlib]\n",
      "   --------------------------------- ------ 5/6 [matplotlib]\n",
      "   --------------------------------- ------ 5/6 [matplotlib]\n",
      "   --------------------------------- ------ 5/6 [matplotlib]\n",
      "   --------------------------------- ------ 5/6 [matplotlib]\n",
      "   --------------------------------- ------ 5/6 [matplotlib]\n",
      "   --------------------------------- ------ 5/6 [matplotlib]\n",
      "   --------------------------------- ------ 5/6 [matplotlib]\n",
      "   --------------------------------- ------ 5/6 [matplotlib]\n",
      "   --------------------------------- ------ 5/6 [matplotlib]\n",
      "   --------------------------------- ------ 5/6 [matplotlib]\n",
      "   --------------------------------- ------ 5/6 [matplotlib]\n",
      "   --------------------------------- ------ 5/6 [matplotlib]\n",
      "   --------------------------------- ------ 5/6 [matplotlib]\n",
      "   --------------------------------- ------ 5/6 [matplotlib]\n",
      "   --------------------------------- ------ 5/6 [matplotlib]\n",
      "   --------------------------------- ------ 5/6 [matplotlib]\n",
      "   --------------------------------- ------ 5/6 [matplotlib]\n",
      "   --------------------------------- ------ 5/6 [matplotlib]\n",
      "   --------------------------------- ------ 5/6 [matplotlib]\n",
      "   --------------------------------- ------ 5/6 [matplotlib]\n",
      "   --------------------------------- ------ 5/6 [matplotlib]\n",
      "   --------------------------------- ------ 5/6 [matplotlib]\n",
      "   --------------------------------- ------ 5/6 [matplotlib]\n",
      "   --------------------------------- ------ 5/6 [matplotlib]\n",
      "   --------------------------------- ------ 5/6 [matplotlib]\n",
      "   --------------------------------- ------ 5/6 [matplotlib]\n",
      "   --------------------------------- ------ 5/6 [matplotlib]\n",
      "   --------------------------------- ------ 5/6 [matplotlib]\n",
      "   --------------------------------- ------ 5/6 [matplotlib]\n",
      "   --------------------------------- ------ 5/6 [matplotlib]\n",
      "   --------------------------------- ------ 5/6 [matplotlib]\n",
      "   --------------------------------- ------ 5/6 [matplotlib]\n",
      "   --------------------------------- ------ 5/6 [matplotlib]\n",
      "   --------------------------------- ------ 5/6 [matplotlib]\n",
      "   --------------------------------- ------ 5/6 [matplotlib]\n",
      "   --------------------------------- ------ 5/6 [matplotlib]\n",
      "   --------------------------------- ------ 5/6 [matplotlib]\n",
      "   --------------------------------- ------ 5/6 [matplotlib]\n",
      "   --------------------------------- ------ 5/6 [matplotlib]\n",
      "   --------------------------------- ------ 5/6 [matplotlib]\n",
      "   --------------------------------- ------ 5/6 [matplotlib]\n",
      "   --------------------------------- ------ 5/6 [matplotlib]\n",
      "   --------------------------------- ------ 5/6 [matplotlib]\n",
      "   --------------------------------- ------ 5/6 [matplotlib]\n",
      "   --------------------------------- ------ 5/6 [matplotlib]\n",
      "   --------------------------------- ------ 5/6 [matplotlib]\n",
      "   --------------------------------- ------ 5/6 [matplotlib]\n",
      "   --------------------------------- ------ 5/6 [matplotlib]\n",
      "   --------------------------------- ------ 5/6 [matplotlib]\n",
      "   --------------------------------- ------ 5/6 [matplotlib]\n",
      "   --------------------------------- ------ 5/6 [matplotlib]\n",
      "   --------------------------------- ------ 5/6 [matplotlib]\n",
      "   --------------------------------- ------ 5/6 [matplotlib]\n",
      "   --------------------------------- ------ 5/6 [matplotlib]\n",
      "   --------------------------------- ------ 5/6 [matplotlib]\n",
      "   --------------------------------- ------ 5/6 [matplotlib]\n",
      "   --------------------------------- ------ 5/6 [matplotlib]\n",
      "   --------------------------------- ------ 5/6 [matplotlib]\n",
      "   --------------------------------- ------ 5/6 [matplotlib]\n",
      "   --------------------------------- ------ 5/6 [matplotlib]\n",
      "   --------------------------------- ------ 5/6 [matplotlib]\n",
      "   --------------------------------- ------ 5/6 [matplotlib]\n",
      "   --------------------------------- ------ 5/6 [matplotlib]\n",
      "   --------------------------------- ------ 5/6 [matplotlib]\n",
      "   ---------------------------------------- 6/6 [matplotlib]\n",
      "\n",
      "Successfully installed contourpy-1.3.2 cycler-0.12.1 fonttools-4.60.1 kiwisolver-1.4.9 matplotlib-3.10.7 pyparsing-3.2.5\n"
     ]
    },
    {
     "name": "stderr",
     "output_type": "stream",
     "text": [
      "  WARNING: The scripts fonttools.exe, pyftmerge.exe, pyftsubset.exe and ttx.exe are installed in 'C:\\Users\\yasha\\anaconda3\\envs\\torch_cpu\\Scripts' which is not on PATH.\n",
      "  Consider adding this directory to PATH or, if you prefer to suppress this warning, use --no-warn-script-location.\n",
      "\n",
      "[notice] A new release of pip is available: 25.1.1 -> 25.2\n",
      "[notice] To update, run: C:\\Users\\yasha\\anaconda3\\envs\\torch_cpu\\python.exe -m pip install --upgrade pip\n"
     ]
    }
   ],
   "source": [
    "!{sys.executable} -m pip install matplotlib"
   ]
  },
  {
   "cell_type": "code",
   "execution_count": 44,
   "id": "bc229d98",
   "metadata": {},
   "outputs": [],
   "source": [
    "import matplotlib.pyplot as plt"
   ]
  },
  {
   "cell_type": "code",
   "execution_count": 47,
   "id": "a76a0115",
   "metadata": {},
   "outputs": [
    {
     "data": {
      "text/plain": [
       "label_name\n",
       "surprise     572\n",
       "love        1304\n",
       "fear        1937\n",
       "anger       2159\n",
       "sadness     4666\n",
       "joy         5362\n",
       "Name: count, dtype: int64"
      ]
     },
     "execution_count": 47,
     "metadata": {},
     "output_type": "execute_result"
    }
   ],
   "source": [
    "label_counts = df['label_name'].value_counts(ascending=True)\n",
    "label_counts"
   ]
  },
  {
   "cell_type": "code",
   "execution_count": 48,
   "id": "5fcb8a8a",
   "metadata": {},
   "outputs": [
    {
     "data": {
      "image/png": "[encoded data removed]",
      "text/plain": [
       "<Figure size 640x480 with 1 Axes>"
      ]
     },
     "metadata": {},
     "output_type": "display_data"
    }
   ],
   "source": [
    "label_counts.plot.barh()\n",
    "plt.title('Frequency of classes')\n",
    "plt.show()"
   ]
  },
  {
   "cell_type": "code",
   "execution_count": 49,
   "id": "a487d3a5",
   "metadata": {},
   "outputs": [
    {
     "data": {
      "text/html": [
       "<div>\n",
       "<style scoped>\n",
       "    .dataframe tbody tr th:only-of-type {\n",
       "        vertical-align: middle;\n",
       "    }\n",
       "\n",
       "    .dataframe tbody tr th {\n",
       "        vertical-align: top;\n",
       "    }\n",
       "\n",
       "    .dataframe thead th {\n",
       "        text-align: right;\n",
       "    }\n",
       "</style>\n",
       "<table border=\"1\" class=\"dataframe\">\n",
       "  <thead>\n",
       "    <tr style=\"text-align: right;\">\n",
       "      <th></th>\n",
       "      <th>text</th>\n",
       "      <th>label</th>\n",
       "      <th>label_name</th>\n",
       "    </tr>\n",
       "  </thead>\n",
       "  <tbody>\n",
       "    <tr>\n",
       "      <th>0</th>\n",
       "      <td>i didnt feel humiliated</td>\n",
       "      <td>0</td>\n",
       "      <td>sadness</td>\n",
       "    </tr>\n",
       "    <tr>\n",
       "      <th>1</th>\n",
       "      <td>i can go from feeling so hopeless to so damned...</td>\n",
       "      <td>0</td>\n",
       "      <td>sadness</td>\n",
       "    </tr>\n",
       "    <tr>\n",
       "      <th>2</th>\n",
       "      <td>im grabbing a minute to post i feel greedy wrong</td>\n",
       "      <td>3</td>\n",
       "      <td>anger</td>\n",
       "    </tr>\n",
       "    <tr>\n",
       "      <th>3</th>\n",
       "      <td>i am ever feeling nostalgic about the fireplac...</td>\n",
       "      <td>2</td>\n",
       "      <td>love</td>\n",
       "    </tr>\n",
       "    <tr>\n",
       "      <th>4</th>\n",
       "      <td>i am feeling grouchy</td>\n",
       "      <td>3</td>\n",
       "      <td>anger</td>\n",
       "    </tr>\n",
       "    <tr>\n",
       "      <th>...</th>\n",
       "      <td>...</td>\n",
       "      <td>...</td>\n",
       "      <td>...</td>\n",
       "    </tr>\n",
       "    <tr>\n",
       "      <th>15995</th>\n",
       "      <td>i just had a very brief time in the beanbag an...</td>\n",
       "      <td>0</td>\n",
       "      <td>sadness</td>\n",
       "    </tr>\n",
       "    <tr>\n",
       "      <th>15996</th>\n",
       "      <td>i am now turning and i feel pathetic that i am...</td>\n",
       "      <td>0</td>\n",
       "      <td>sadness</td>\n",
       "    </tr>\n",
       "    <tr>\n",
       "      <th>15997</th>\n",
       "      <td>i feel strong and good overall</td>\n",
       "      <td>1</td>\n",
       "      <td>joy</td>\n",
       "    </tr>\n",
       "    <tr>\n",
       "      <th>15998</th>\n",
       "      <td>i feel like this was such a rude comment and i...</td>\n",
       "      <td>3</td>\n",
       "      <td>anger</td>\n",
       "    </tr>\n",
       "    <tr>\n",
       "      <th>15999</th>\n",
       "      <td>i know a lot but i feel so stupid because i ca...</td>\n",
       "      <td>0</td>\n",
       "      <td>sadness</td>\n",
       "    </tr>\n",
       "  </tbody>\n",
       "</table>\n",
       "<p>16000 rows × 3 columns</p>\n",
       "</div>"
      ],
      "text/plain": [
       "                                                    text  label label_name\n",
       "0                                i didnt feel humiliated      0    sadness\n",
       "1      i can go from feeling so hopeless to so damned...      0    sadness\n",
       "2       im grabbing a minute to post i feel greedy wrong      3      anger\n",
       "3      i am ever feeling nostalgic about the fireplac...      2       love\n",
       "4                                   i am feeling grouchy      3      anger\n",
       "...                                                  ...    ...        ...\n",
       "15995  i just had a very brief time in the beanbag an...      0    sadness\n",
       "15996  i am now turning and i feel pathetic that i am...      0    sadness\n",
       "15997                     i feel strong and good overall      1        joy\n",
       "15998  i feel like this was such a rude comment and i...      3      anger\n",
       "15999  i know a lot but i feel so stupid because i ca...      0    sadness\n",
       "\n",
       "[16000 rows x 3 columns]"
      ]
     },
     "execution_count": 49,
     "metadata": {},
     "output_type": "execute_result"
    }
   ],
   "source": [
    "df"
   ]
  },
  {
   "cell_type": "code",
   "execution_count": 53,
   "id": "592e9dde",
   "metadata": {},
   "outputs": [],
   "source": [
    "df['words per tweet']=df['text'].str.split().apply(len)"
   ]
  },
  {
   "cell_type": "code",
   "execution_count": 54,
   "id": "84305fd1",
   "metadata": {},
   "outputs": [
    {
     "data": {
      "text/plain": [
       "<Axes: title={'center': 'words per tweet'}, xlabel='label_name'>"
      ]
     },
     "execution_count": 54,
     "metadata": {},
     "output_type": "execute_result"
    },
    {
     "data": {
      "image/png": "[encoded data removed]",
      "text/plain": [
       "<Figure size 640x480 with 1 Axes>"
      ]
     },
     "metadata": {},
     "output_type": "display_data"
    }
   ],
   "source": [
    "df.boxplot(\"words per tweet\", by='label_name')"
   ]
  },
  {
   "cell_type": "code",
   "execution_count": 56,
   "id": "510f4550",
   "metadata": {},
   "outputs": [],
   "source": [
    "from transformers import AutoTokenizer"
   ]
  },
  {
   "cell_type": "code",
   "execution_count": 57,
   "id": "f49d7fcb",
   "metadata": {},
   "outputs": [
    {
     "data": {
      "application/vnd.jupyter.widget-view+json": {
       "model_id": "55eb2cf40e08404d8c256346a022114d",
       "version_major": 2,
       "version_minor": 0
      },
      "text/plain": [
       "tokenizer_config.json:   0%|          | 0.00/48.0 [00:00<?, ?B/s]"
      ]
     },
     "metadata": {},
     "output_type": "display_data"
    },
    {
     "name": "stderr",
     "output_type": "stream",
     "text": [
      "C:\\Users\\yasha\\AppData\\Roaming\\Python\\Python310\\site-packages\\huggingface_hub\\file_download.py:143: UserWarning: `huggingface_hub` cache-system uses symlinks by default to efficiently store duplicated files but your machine does not support them in C:\\Users\\yasha\\.cache\\huggingface\\hub\\models--distilbert--distilbert-base-uncased. Caching files will still work but in a degraded version that might require more space on your disk. This warning can be disabled by setting the `HF_HUB_DISABLE_SYMLINKS_WARNING` environment variable. For more details, see https://huggingface.co/docs/huggingface_hub/how-to-cache#limitations.\n",
      "To support symlinks on Windows, you either need to activate Developer Mode or to run Python as an administrator. In order to activate developer mode, see this article: https://docs.microsoft.com/en-us/windows/apps/get-started/enable-your-device-for-development\n",
      "  warnings.warn(message)\n"
     ]
    },
    {
     "data": {
      "application/vnd.jupyter.widget-view+json": {
       "model_id": "fcf42098ec03467592fc876451418fe1",
       "version_major": 2,
       "version_minor": 0
      },
      "text/plain": [
       "config.json:   0%|          | 0.00/483 [00:00<?, ?B/s]"
      ]
     },
     "metadata": {},
     "output_type": "display_data"
    },
    {
     "data": {
      "application/vnd.jupyter.widget-view+json": {
       "model_id": "bf38dceca7e9497aac6d602323f4eb35",
       "version_major": 2,
       "version_minor": 0
      },
      "text/plain": [
       "vocab.txt: 0.00B [00:00, ?B/s]"
      ]
     },
     "metadata": {},
     "output_type": "display_data"
    },
    {
     "data": {
      "application/vnd.jupyter.widget-view+json": {
       "model_id": "0c111f4b2c09449cb9cc8f4889ead150",
       "version_major": 2,
       "version_minor": 0
      },
      "text/plain": [
       "tokenizer.json: 0.00B [00:00, ?B/s]"
      ]
     },
     "metadata": {},
     "output_type": "display_data"
    }
   ],
   "source": [
    "model_ckpt = \"distilbert/distilbert-base-uncased\"\n",
    "tokenizer = AutoTokenizer.from_pretrained(model_ckpt)"
   ]
  },
  {
   "cell_type": "code",
   "execution_count": 62,
   "id": "5c691365",
   "metadata": {},
   "outputs": [
    {
     "name": "stdout",
     "output_type": "stream",
     "text": [
      "{'input_ids': [101, 2026, 2171, 2003, 3282, 8405, 2365, 2072, 102], 'attention_mask': [1, 1, 1, 1, 1, 1, 1, 1, 1]}\n"
     ]
    }
   ],
   "source": [
    "text = \"My name is Gunjan Soni\"\n",
    "encoded_text=tokenizer(text)\n",
    "print(encoded_text)"
   ]
  },
  {
   "cell_type": "code",
   "execution_count": 64,
   "id": "6d636fdf",
   "metadata": {},
   "outputs": [
    {
     "name": "stdout",
     "output_type": "stream",
     "text": [
      "['[CLS]', 'my', 'name', 'is', 'gun', '##jan', 'son', '##i', '[SEP]']\n"
     ]
    }
   ],
   "source": [
    "tokens = tokenizer.convert_ids_to_tokens(encoded_text.input_ids)\n",
    "print(tokens)"
   ]
  },
  {
   "cell_type": "markdown",
   "id": "76fae9f8",
   "metadata": {},
   "source": [
    "# Tokenization of emotion data"
   ]
  },
  {
   "cell_type": "code",
   "execution_count": 65,
   "id": "e95ae6c1",
   "metadata": {},
   "outputs": [],
   "source": [
    "emotion.reset_format()"
   ]
  },
  {
   "cell_type": "code",
   "execution_count": 68,
   "id": "73e89c90",
   "metadata": {},
   "outputs": [
    {
     "name": "stdout",
     "output_type": "stream",
     "text": [
      "{'input_ids': [[101, 1045, 2134, 2102, 2514, 26608, 102, 0, 0, 0, 0, 0, 0, 0, 0, 0, 0, 0, 0, 0, 0, 0, 0], [101, 1045, 2064, 2175, 2013, 3110, 2061, 20625, 2000, 2061, 9636, 17772, 2074, 2013, 2108, 2105, 2619, 2040, 14977, 1998, 2003, 8300, 102]], 'attention_mask': [[1, 1, 1, 1, 1, 1, 1, 0, 0, 0, 0, 0, 0, 0, 0, 0, 0, 0, 0, 0, 0, 0, 0], [1, 1, 1, 1, 1, 1, 1, 1, 1, 1, 1, 1, 1, 1, 1, 1, 1, 1, 1, 1, 1, 1, 1]]}\n"
     ]
    }
   ],
   "source": [
    "def tokenize(batch):\n",
    "    temp = tokenizer(batch['text'],padding = True , truncation = True)\n",
    "    return temp\n",
    "print(tokenize(emotion['train'][:2]))"
   ]
  },
  {
   "cell_type": "code",
   "execution_count": 69,
   "id": "1c3270bc",
   "metadata": {},
   "outputs": [
    {
     "data": {
      "application/vnd.jupyter.widget-view+json": {
       "model_id": "43def18f5f6141518767d8a0ab328a87",
       "version_major": 2,
       "version_minor": 0
      },
      "text/plain": [
       "Map:   0%|          | 0/16000 [00:00<?, ? examples/s]"
      ]
     },
     "metadata": {},
     "output_type": "display_data"
    },
    {
     "data": {
      "application/vnd.jupyter.widget-view+json": {
       "model_id": "b73563c1c881433ab7e6f1cdf4f2400b",
       "version_major": 2,
       "version_minor": 0
      },
      "text/plain": [
       "Map:   0%|          | 0/2000 [00:00<?, ? examples/s]"
      ]
     },
     "metadata": {},
     "output_type": "display_data"
    },
    {
     "data": {
      "application/vnd.jupyter.widget-view+json": {
       "model_id": "a0dc7b7eb4a7423aa7e0e9c91f416b37",
       "version_major": 2,
       "version_minor": 0
      },
      "text/plain": [
       "Map:   0%|          | 0/2000 [00:00<?, ? examples/s]"
      ]
     },
     "metadata": {},
     "output_type": "display_data"
    }
   ],
   "source": [
    "emotions_encoded = emotion.map(tokenize, batched = True , batch_size= None )"
   ]
  },
  {
   "cell_type": "code",
   "execution_count": 70,
   "id": "abf619d2",
   "metadata": {},
   "outputs": [
    {
     "data": {
      "text/plain": [
       "DatasetDict({\n",
       "    train: Dataset({\n",
       "        features: ['text', 'label', 'input_ids', 'attention_mask'],\n",
       "        num_rows: 16000\n",
       "    })\n",
       "    validation: Dataset({\n",
       "        features: ['text', 'label', 'input_ids', 'attention_mask'],\n",
       "        num_rows: 2000\n",
       "    })\n",
       "    test: Dataset({\n",
       "        features: ['text', 'label', 'input_ids', 'attention_mask'],\n",
       "        num_rows: 2000\n",
       "    })\n",
       "})"
      ]
     },
     "execution_count": 70,
     "metadata": {},
     "output_type": "execute_result"
    }
   ],
   "source": [
    "emotions_encoded"
   ]
  },
  {
   "cell_type": "markdown",
   "id": "f4a3dbca",
   "metadata": {},
   "source": [
    "# Model Building"
   ]
  },
  {
   "cell_type": "code",
   "execution_count": 71,
   "id": "fdc26a7a",
   "metadata": {},
   "outputs": [
    {
     "data": {
      "text/plain": [
       "'My name is Gunjan Soni'"
      ]
     },
     "execution_count": 71,
     "metadata": {},
     "output_type": "execute_result"
    }
   ],
   "source": [
    "text"
   ]
  },
  {
   "cell_type": "code",
   "execution_count": 74,
   "id": "eeba9c67",
   "metadata": {},
   "outputs": [
    {
     "data": {
      "text/plain": [
       "{'input_ids': tensor([[ 101, 2026, 2171, 2003, 3282, 8405, 2365, 2072,  102]]), 'attention_mask': tensor([[1, 1, 1, 1, 1, 1, 1, 1, 1]])}"
      ]
     },
     "execution_count": 74,
     "metadata": {},
     "output_type": "execute_result"
    }
   ],
   "source": [
    "input = tokenizer (text , return_tensors = 'pt') #here pt is pytorch tensor  \n",
    "input"
   ]
  },
  {
   "cell_type": "code",
   "execution_count": 77,
   "id": "7eb5ba13",
   "metadata": {},
   "outputs": [
    {
     "name": "stderr",
     "output_type": "stream",
     "text": [
      "'(ReadTimeoutError(\"HTTPSConnectionPool(host='huggingface.co', port=443): Read timed out. (read timeout=10)\"), '(Request ID: d53fd03d-812c-4595-9380-26c3da94050b)')' thrown while requesting HEAD https://huggingface.co/distilbert/distilbert-base-uncased/resolve/main/config.json\n",
      "Retrying in 1s [Retry 1/5].\n",
      "Xet Storage is enabled for this repo, but the 'hf_xet' package is not installed. Falling back to regular HTTP download. For better performance, install the package with: `pip install huggingface_hub[hf_xet]` or `pip install hf_xet`\n"
     ]
    },
    {
     "data": {
      "application/vnd.jupyter.widget-view+json": {
       "model_id": "752a08710f124f8b9e18d8b2e07b2fbb",
       "version_major": 2,
       "version_minor": 0
      },
      "text/plain": [
       "model.safetensors:   0%|          | 0.00/268M [00:00<?, ?B/s]"
      ]
     },
     "metadata": {},
     "output_type": "display_data"
    }
   ],
   "source": [
    "from transformers import AutoModel \n",
    "import torch\n",
    "model = AutoModel.from_pretrained(model_ckpt)"
   ]
  },
  {
   "cell_type": "code",
   "execution_count": 78,
   "id": "a54bd3e2",
   "metadata": {},
   "outputs": [
    {
     "data": {
      "text/plain": [
       "DistilBertModel(\n",
       "  (embeddings): Embeddings(\n",
       "    (word_embeddings): Embedding(30522, 768, padding_idx=0)\n",
       "    (position_embeddings): Embedding(512, 768)\n",
       "    (LayerNorm): LayerNorm((768,), eps=1e-12, elementwise_affine=True)\n",
       "    (dropout): Dropout(p=0.1, inplace=False)\n",
       "  )\n",
       "  (transformer): Transformer(\n",
       "    (layer): ModuleList(\n",
       "      (0-5): 6 x TransformerBlock(\n",
       "        (attention): DistilBertSdpaAttention(\n",
       "          (dropout): Dropout(p=0.1, inplace=False)\n",
       "          (q_lin): Linear(in_features=768, out_features=768, bias=True)\n",
       "          (k_lin): Linear(in_features=768, out_features=768, bias=True)\n",
       "          (v_lin): Linear(in_features=768, out_features=768, bias=True)\n",
       "          (out_lin): Linear(in_features=768, out_features=768, bias=True)\n",
       "        )\n",
       "        (sa_layer_norm): LayerNorm((768,), eps=1e-12, elementwise_affine=True)\n",
       "        (ffn): FFN(\n",
       "          (dropout): Dropout(p=0.1, inplace=False)\n",
       "          (lin1): Linear(in_features=768, out_features=3072, bias=True)\n",
       "          (lin2): Linear(in_features=3072, out_features=768, bias=True)\n",
       "          (activation): GELUActivation()\n",
       "        )\n",
       "        (output_layer_norm): LayerNorm((768,), eps=1e-12, elementwise_affine=True)\n",
       "      )\n",
       "    )\n",
       "  )\n",
       ")"
      ]
     },
     "execution_count": 78,
     "metadata": {},
     "output_type": "execute_result"
    }
   ],
   "source": [
    "model"
   ]
  },
  {
   "cell_type": "code",
   "execution_count": 83,
   "id": "b84d71f9",
   "metadata": {},
   "outputs": [],
   "source": [
    "with torch.no_grad():\n",
    "    outputs = model(**input)\n",
    "    \n",
    "last_hidden_state = outputs.last_hidden_state"
   ]
  },
  {
   "cell_type": "code",
   "execution_count": 84,
   "id": "080c0631",
   "metadata": {},
   "outputs": [
    {
     "data": {
      "text/plain": [
       "BaseModelOutput(last_hidden_state=tensor([[[-2.6954e-02, -6.4695e-02, -2.6675e-02,  ..., -2.4973e-02,\n",
       "           2.4774e-01,  1.9026e-01],\n",
       "         [ 2.4058e-01, -1.5616e-01, -3.6379e-01,  ..., -2.3928e-01,\n",
       "           3.5188e-01,  1.3652e-01],\n",
       "         [-1.9667e-01, -1.0308e-01, -3.1217e-01,  ..., -2.5232e-01,\n",
       "           2.1391e-01, -3.1296e-01],\n",
       "         ...,\n",
       "         [ 6.2994e-02, -2.8410e-01, -1.2881e-02,  ...,  2.1758e-05,\n",
       "           2.2260e-01, -6.0004e-02],\n",
       "         [-3.0789e-02, -4.1076e-01, -3.5129e-01,  ...,  1.3456e-01,\n",
       "           7.8407e-02, -2.9873e-01],\n",
       "         [ 8.5845e-01,  1.1201e-01, -4.0192e-01,  ...,  1.0545e-01,\n",
       "          -6.3083e-01, -3.9957e-01]]]), hidden_states=None, attentions=None)"
      ]
     },
     "execution_count": 84,
     "metadata": {},
     "output_type": "execute_result"
    }
   ],
   "source": [
    "outputs"
   ]
  },
  {
   "cell_type": "code",
   "execution_count": 85,
   "id": "a1a67460",
   "metadata": {},
   "outputs": [
    {
     "data": {
      "text/plain": [
       "tensor([[[-2.6954e-02, -6.4695e-02, -2.6675e-02,  ..., -2.4973e-02,\n",
       "           2.4774e-01,  1.9026e-01],\n",
       "         [ 2.4058e-01, -1.5616e-01, -3.6379e-01,  ..., -2.3928e-01,\n",
       "           3.5188e-01,  1.3652e-01],\n",
       "         [-1.9667e-01, -1.0308e-01, -3.1217e-01,  ..., -2.5232e-01,\n",
       "           2.1391e-01, -3.1296e-01],\n",
       "         ...,\n",
       "         [ 6.2994e-02, -2.8410e-01, -1.2881e-02,  ...,  2.1758e-05,\n",
       "           2.2260e-01, -6.0004e-02],\n",
       "         [-3.0789e-02, -4.1076e-01, -3.5129e-01,  ...,  1.3456e-01,\n",
       "           7.8407e-02, -2.9873e-01],\n",
       "         [ 8.5845e-01,  1.1201e-01, -4.0192e-01,  ...,  1.0545e-01,\n",
       "          -6.3083e-01, -3.9957e-01]]])"
      ]
     },
     "execution_count": 85,
     "metadata": {},
     "output_type": "execute_result"
    }
   ],
   "source": [
    "last_hidden_state"
   ]
  },
  {
   "cell_type": "code",
   "execution_count": 86,
   "id": "3c919a2e",
   "metadata": {},
   "outputs": [
    {
     "data": {
      "text/plain": [
       "torch.Size([1, 9, 768])"
      ]
     },
     "execution_count": 86,
     "metadata": {},
     "output_type": "execute_result"
    }
   ],
   "source": [
    "last_hidden_state.shape"
   ]
  },
  {
   "cell_type": "code",
   "execution_count": 87,
   "id": "2ff282fa",
   "metadata": {},
   "outputs": [],
   "source": [
    "from transformers import AutoModelForSequenceClassification"
   ]
  },
  {
   "cell_type": "code",
   "execution_count": 89,
   "id": "da983bae",
   "metadata": {},
   "outputs": [
    {
     "name": "stdout",
     "output_type": "stream",
     "text": [
      "6\n"
     ]
    }
   ],
   "source": [
    "num_labels = len(classes)\n",
    "print(num_labels)"
   ]
  },
  {
   "cell_type": "code",
   "execution_count": 91,
   "id": "3a6c225f",
   "metadata": {},
   "outputs": [
    {
     "name": "stderr",
     "output_type": "stream",
     "text": [
      "Some weights of DistilBertForSequenceClassification were not initialized from the model checkpoint at distilbert/distilbert-base-uncased and are newly initialized: ['classifier.bias', 'classifier.weight', 'pre_classifier.bias', 'pre_classifier.weight']\n",
      "You should probably TRAIN this model on a down-stream task to be able to use it for predictions and inference.\n"
     ]
    }
   ],
   "source": [
    "device = torch.device(\"cuda\" if torch.cuda.is_available() else \"cpu\")\n",
    "model = AutoModelForSequenceClassification.from_pretrained(model_ckpt , num_labels = num_labels).to(device)"
   ]
  },
  {
   "cell_type": "code",
   "execution_count": 92,
   "id": "13c835f6",
   "metadata": {},
   "outputs": [
    {
     "data": {
      "text/plain": [
       "device(type='cpu')"
      ]
     },
     "execution_count": 92,
     "metadata": {},
     "output_type": "execute_result"
    }
   ],
   "source": [
    "device"
   ]
  },
  {
   "cell_type": "code",
   "execution_count": 93,
   "id": "d1316019",
   "metadata": {},
   "outputs": [],
   "source": [
    "from transformers import TrainingArguments"
   ]
  },
  {
   "cell_type": "code",
   "execution_count": 96,
   "id": "a3c0e41f",
   "metadata": {},
   "outputs": [],
   "source": [
    "batch_size = 64 \n",
    "model_name = \"distilbert-finetuned-emotion\"\n",
    "\n",
    "training_args = TrainingArguments(output_dir = model_name , \n",
    "                                  num_train_epochs=2 ,\n",
    "                                  learning_rate= 2e-5, \n",
    "                                  per_device_eval_batch_size= batch_size,\n",
    "                                  per_device_train_batch_size=batch_size,\n",
    "                                  weight_decay=0.01,\n",
    "                                 eval_strategy='epoch',\n",
    "                                 disable_tqdm=False)"
   ]
  },
  {
   "cell_type": "code",
   "execution_count": 97,
   "id": "29f64e9b",
   "metadata": {},
   "outputs": [],
   "source": [
    " from sklearn.metrics import accuracy_score , f1_score"
   ]
  },
  {
   "cell_type": "code",
   "execution_count": null,
   "id": "4eb4eb1c",
   "metadata": {},
   "outputs": [],
   "source": [
    "def compute_metrics(pred):\n",
    "    labels = pred.label_ids\n",
    "    preds = pred.predictions.argmax(-1)\n",
    "    f1 = f1_score(labels , preds , average = 'weighted')\n",
    "    acc = accuracy_score(labels , preds)\n",
    "    return {\"accuracy :\":acc, \"f1\":f1}\n",
    "    "
   ]
  },
  {
   "cell_type": "code",
   "execution_count": null,
   "id": "e93cc6e9",
   "metadata": {},
   "outputs": [],
   "source": [
    "from transformers import Trainer"
   ]
  },
  {
   "cell_type": "code",
   "execution_count": null,
   "id": "9879ff6e",
   "metadata": {},
   "outputs": [],
   "source": [
    "trainer = Trainer(model = model ,\n",
    "                  args = training_args , \n",
    "                  compute_metrics=compute_metrics,\n",
    "                  train_dataset=emotions_encoded['train'],\n",
    "                  eval_dataset=emotions_encoded['validation'],\n",
    "                  tokenizer = tokenizer)"
   ]
  },
  {
   "cell_type": "code",
   "execution_count": null,
   "id": "dbda023e",
   "metadata": {},
   "outputs": [],
   "source": [
    "trainer.train()"
   ]
  },
  {
   "cell_type": "code",
   "execution_count": null,
   "id": "a4cd9c2f",
   "metadata": {},
   "outputs": [],
   "source": [
    "preds_outputs = trainer.predict(emotions_encoded['test'])\n",
    "preds_outputs.metrics"
   ]
  },
  {
   "cell_type": "code",
   "execution_count": null,
   "id": "34114c0d",
   "metadata": {},
   "outputs": [],
   "source": [
    "import numpy as np "
   ]
  },
  {
   "cell_type": "code",
   "execution_count": null,
   "id": "2ce0d183",
   "metadata": {},
   "outputs": [],
   "source": [
    "y_preds = np.argmax (preds_output.predictions,axis=1)\n",
    "y_true = emotions_encoded['test'][:]['labels']\n"
   ]
  },
  {
   "cell_type": "code",
   "execution_count": null,
   "id": "e0cd438c",
   "metadata": {},
   "outputs": [],
   "source": [
    "from sklearn.metrics import classification_report\n",
    "print(classes)\n",
    "print(classification_report(y_true,y_preds))"
   ]
  },
  {
   "cell_type": "code",
   "execution_count": null,
   "id": "a1af207d",
   "metadata": {},
   "outputs": [],
   "source": [
    "text = \"\"\n",
    "input_encoded = tokenizer (text ,return_tensors = 'pt' ).to(device)\n",
    "with torch.no_grad():\n",
    "    outputs = model(**input_encoded)\n",
    "    \n",
    "logits = outputs.logits\n",
    "pred = torch.argmax(logits,dim=1).item()\n",
    "pred, classes[pred]"
   ]
  }
 ],
 "metadata": {
  "kernelspec": {
   "display_name": "torch_cpu",
   "language": "python",
   "name": "torch_cpu"
  },
  "language_info": {
   "codemirror_mode": {
    "name": "ipython",
    "version": 3
   },
   "file_extension": ".py",
   "mimetype": "text/x-python",
   "name": "python",
   "nbconvert_exporter": "python",
   "pygments_lexer": "ipython3",
   "version": "3.10.19"
  }
 },
 "nbformat": 4,
 "nbformat_minor": 5
}
